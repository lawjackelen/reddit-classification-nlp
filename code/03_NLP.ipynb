{
 "cells": [
  {
   "cell_type": "code",
   "execution_count": 1,
   "id": "6b052431",
   "metadata": {},
   "outputs": [],
   "source": [
    "import pandas as pd\n",
    "import numpy as np\n",
    "\n",
    "import spacy\n",
    "from spacytextblob.spacytextblob import SpacyTextBlob # sentiment analysis\n",
    "\n",
    "from  nltk.stem import PorterStemmer\n",
    "\n",
    "from sklearn.feature_extraction.text import TfidfVectorizer"
   ]
  },
  {
   "cell_type": "code",
   "execution_count": 2,
   "id": "004fc6b7",
   "metadata": {
    "scrolled": true
   },
   "outputs": [],
   "source": [
    "# !pip install spacymoji\n",
    "from spacymoji import Emoji # deal with emojis\n",
    "\n",
    "# !pip install emot --upgrade\n",
    "# https://github.com/NeelShah18/emot\n",
    "import emot"
   ]
  },
  {
   "cell_type": "markdown",
   "id": "b801034a",
   "metadata": {},
   "source": [
    "## Import Data"
   ]
  },
  {
   "cell_type": "code",
   "execution_count": 3,
   "id": "1f9d7987",
   "metadata": {},
   "outputs": [],
   "source": [
    "scrape = pd.read_csv('../data/pre_nlp_data.csv')"
   ]
  },
  {
   "cell_type": "code",
   "execution_count": 4,
   "id": "95eacdf7",
   "metadata": {},
   "outputs": [],
   "source": [
    "titles = scrape.loc[:,['title']]"
   ]
  },
  {
   "cell_type": "markdown",
   "id": "0da8a8ea",
   "metadata": {},
   "source": [
    "## NLP"
   ]
  },
  {
   "cell_type": "markdown",
   "id": "d1abda38",
   "metadata": {},
   "source": [
    "### Add word length, character length attributes"
   ]
  },
  {
   "cell_type": "code",
   "execution_count": 5,
   "id": "7b1a093b",
   "metadata": {},
   "outputs": [],
   "source": [
    "def word_count(instr):\n",
    "    \n",
    "    # remove all double spaces\n",
    "    count = 0\n",
    "    while '  ' in instr and count < 1_000_000 :\n",
    "        instr = instr.replace('  ',' ')\n",
    "        count += 1\n",
    "    \n",
    "    return len(instr.split(' '))"
   ]
  },
  {
   "cell_type": "code",
   "execution_count": 6,
   "id": "71fe19e8",
   "metadata": {},
   "outputs": [],
   "source": [
    "titles['title_length'] = titles['title'].map(lambda x: len(x))"
   ]
  },
  {
   "cell_type": "code",
   "execution_count": 7,
   "id": "351c5ac6",
   "metadata": {},
   "outputs": [],
   "source": [
    "titles['title_word_count'] = titles['title'].map(lambda x: word_count(x))"
   ]
  },
  {
   "cell_type": "markdown",
   "id": "e2e3bcc5",
   "metadata": {},
   "source": [
    "### Spacy"
   ]
  },
  {
   "cell_type": "code",
   "execution_count": 8,
   "id": "a488642e",
   "metadata": {},
   "outputs": [
    {
     "data": {
      "text/plain": [
       "<spacymoji.Emoji at 0x1e5f08e13d0>"
      ]
     },
     "execution_count": 8,
     "metadata": {},
     "output_type": "execute_result"
    }
   ],
   "source": [
    "nlp = spacy.load('en_core_web_sm')\n",
    "nlp.add_pipe('spacytextblob')\n",
    "nlp.add_pipe(\"emoji\")"
   ]
  },
  {
   "cell_type": "code",
   "execution_count": 9,
   "id": "59877fc1",
   "metadata": {},
   "outputs": [],
   "source": [
    "titles['docs'] = titles['title'].map(lambda x: nlp(x))"
   ]
  },
  {
   "cell_type": "markdown",
   "id": "c8311691",
   "metadata": {},
   "source": [
    "#### Add Sentiment Scores"
   ]
  },
  {
   "cell_type": "code",
   "execution_count": 10,
   "id": "b725116d",
   "metadata": {},
   "outputs": [],
   "source": [
    "titles['polarity'] = titles['docs'].map(lambda x: x._.polarity)"
   ]
  },
  {
   "cell_type": "code",
   "execution_count": 11,
   "id": "6aca96f2",
   "metadata": {},
   "outputs": [],
   "source": [
    "titles['subjectivity'] = titles['docs'].map(lambda x: x._.subjectivity)"
   ]
  },
  {
   "cell_type": "markdown",
   "id": "8018f43f",
   "metadata": {},
   "source": [
    "#### Add emojis"
   ]
  },
  {
   "cell_type": "code",
   "execution_count": 12,
   "id": "1cf9ec60",
   "metadata": {},
   "outputs": [],
   "source": [
    "titles['has_emoji'] = titles['docs'].map(lambda x: x._.has_emoji)"
   ]
  },
  {
   "cell_type": "code",
   "execution_count": 13,
   "id": "9d0dc3f8",
   "metadata": {},
   "outputs": [],
   "source": [
    "titles['number_of_emoji'] = titles['docs'].map(lambda x: len(x._.emoji))"
   ]
  },
  {
   "cell_type": "code",
   "execution_count": 14,
   "id": "99547a13",
   "metadata": {},
   "outputs": [],
   "source": [
    "titles['emojis'] = titles['docs'].map(lambda x: x._.emoji)"
   ]
  },
  {
   "cell_type": "markdown",
   "id": "6d800ec9",
   "metadata": {},
   "source": [
    "#### Remove Emojis"
   ]
  },
  {
   "cell_type": "code",
   "execution_count": 15,
   "id": "186c1904",
   "metadata": {},
   "outputs": [],
   "source": [
    "# !pip install clean-text\n",
    "# https://www.educative.io/edpresso/how-to-remove-emoji-from-the-text-in-python\n",
    "from cleantext import clean"
   ]
  },
  {
   "cell_type": "code",
   "execution_count": 16,
   "id": "8d7c1105",
   "metadata": {},
   "outputs": [],
   "source": [
    "titles['title'] = titles['title'].map(lambda x: clean(x, no_emoji=True))"
   ]
  },
  {
   "cell_type": "markdown",
   "id": "6890917a",
   "metadata": {},
   "source": [
    "#### Text Smileys"
   ]
  },
  {
   "cell_type": "code",
   "execution_count": 17,
   "id": "afcd7324",
   "metadata": {
    "code_folding": []
   },
   "outputs": [],
   "source": [
    "# see github link by import emot\n",
    "emot_obj = emot.core.emot()"
   ]
  },
  {
   "cell_type": "code",
   "execution_count": 18,
   "id": "2b9ed735",
   "metadata": {},
   "outputs": [],
   "source": [
    "titles['has_emoticon'] = titles['title'].map(lambda x: emot_obj.emoticons(x)['flag'])\n",
    "titles['number_of_emoticons'] = titles['title'].map(lambda x: len(emot_obj.emoticons(x)['value']))\n",
    "titles['emoticons'] = titles['title'].map(lambda x: emot_obj.emoticons(x))"
   ]
  },
  {
   "cell_type": "markdown",
   "id": "177189a1",
   "metadata": {},
   "source": [
    "#### Parts of Speech counts"
   ]
  },
  {
   "cell_type": "code",
   "execution_count": 19,
   "id": "84777b8f",
   "metadata": {},
   "outputs": [],
   "source": [
    "pos_lst = [[w.pos_ for w in nlp(t)] for t in titles.iloc[:,0]]"
   ]
  },
  {
   "cell_type": "code",
   "execution_count": 20,
   "id": "7f2cca54",
   "metadata": {},
   "outputs": [],
   "source": [
    "# https://stackoverflow.com/questions/722697/best-way-to-turn-word-list-into-frequency-dict\n",
    "pos_parts = ['ADJ','ADP','ADV','AUX','CONJ','CCONJ','DET','INTJ','NOUN','NUM'\\\n",
    "             ,'PART','PRON','PROPN','PUNCT','SCONJ','SYM','VERB','X','SPACE']\n",
    "\n",
    "pos_counts = [{i:pos_lst[t].count(i) for i in pos_parts} for t in range(len(pos_lst))]\n"
   ]
  },
  {
   "cell_type": "code",
   "execution_count": 21,
   "id": "e534ad42",
   "metadata": {},
   "outputs": [],
   "source": [
    "pos_df = pd.DataFrame(pos_counts)\n",
    "pos_df = pos_df.join(pos_df.sum(axis=1).rename(\"sum_pos\"))"
   ]
  },
  {
   "cell_type": "code",
   "execution_count": 22,
   "id": "06e31422",
   "metadata": {},
   "outputs": [],
   "source": [
    "# drop conj, space\n",
    "pos_df.drop(['SPACE','CONJ'], axis = 1, inplace = True)\n"
   ]
  },
  {
   "cell_type": "code",
   "execution_count": 23,
   "id": "b3400090",
   "metadata": {},
   "outputs": [],
   "source": [
    "pos_perc_df = pd.DataFrame([pos_df.apply(lambda row: 0 if row.sum_pos == 0\n",
    "                                                     else row[col] / row.sum_pos\n",
    "                                                 , axis = 1)\n",
    "                            for col in pos_df.columns[:-1]]).T\n",
    "\n",
    "pos_perc_df.columns = [col+'_percent' for col in pos_df.columns[:-1]]"
   ]
  },
  {
   "cell_type": "code",
   "execution_count": 24,
   "id": "95ad908e",
   "metadata": {},
   "outputs": [],
   "source": [
    "# join back to pos_df\n",
    "pos_df = pos_df.join(pos_perc_df)"
   ]
  },
  {
   "cell_type": "markdown",
   "id": "b05af641",
   "metadata": {},
   "source": [
    "### No Stem, No Lemma"
   ]
  },
  {
   "cell_type": "markdown",
   "id": "3bf7b6df",
   "metadata": {},
   "source": [
    "#### TF-IDF Vectorize"
   ]
  },
  {
   "cell_type": "code",
   "execution_count": 25,
   "id": "dda3c9c9",
   "metadata": {},
   "outputs": [],
   "source": [
    "# instantiate a tfidf vectorizer\n",
    "tvec = TfidfVectorizer(\n",
    "                       stop_words = 'english',\n",
    "                       strip_accents = 'ascii',\n",
    "                       max_features = 200,\n",
    "                       max_df = .60,\n",
    "                       norm = 'l2'\n",
    "        )\n",
    "\n",
    "# fit our vectorizer\n",
    "tvec.fit(titles['title'])\n",
    "\n",
    "# create tfidf matrix\n",
    "tvec_naut = pd.DataFrame(tvec.transform(titles['title']).todense(),\n",
    "                           columns = tvec.get_feature_names())"
   ]
  },
  {
   "cell_type": "code",
   "execution_count": 26,
   "id": "4aa75ecc",
   "metadata": {},
   "outputs": [
    {
     "data": {
      "text/plain": [
       "Index(['10', '100', '2022', 'ago', 'american', 'anon', 'art', 'away', 'baby',\n",
       "       'bad'],\n",
       "      dtype='object')"
      ]
     },
     "execution_count": 26,
     "metadata": {},
     "output_type": "execute_result"
    }
   ],
   "source": [
    "tvec_naut.columns[:10]"
   ]
  },
  {
   "cell_type": "markdown",
   "id": "5118fc5f",
   "metadata": {},
   "source": [
    "### Porter Stem"
   ]
  },
  {
   "cell_type": "code",
   "execution_count": 27,
   "id": "cfcc4180",
   "metadata": {},
   "outputs": [],
   "source": [
    "ps = PorterStemmer()"
   ]
  },
  {
   "cell_type": "code",
   "execution_count": 28,
   "id": "4094668c",
   "metadata": {},
   "outputs": [],
   "source": [
    "title_stemmed = [' '.join([ps.stem(w.text) for w in nlp(t)])\n",
    "                           for t in titles['title']]"
   ]
  },
  {
   "cell_type": "markdown",
   "id": "b207b558",
   "metadata": {},
   "source": [
    "#### TF-IDF Vectorize"
   ]
  },
  {
   "cell_type": "code",
   "execution_count": 29,
   "id": "62873a77",
   "metadata": {},
   "outputs": [],
   "source": [
    "# instantiate a tfidf vectorizer\n",
    "tvec = TfidfVectorizer(\n",
    "                       stop_words = 'english',\n",
    "                       strip_accents = 'ascii',\n",
    "                       max_features = 200,\n",
    "                       max_df = .60,\n",
    "                       norm = 'l2'\n",
    "        )\n",
    "\n",
    "# fit our vectorizer\n",
    "tvec.fit(title_stemmed)\n",
    "\n",
    "# create tfidf matrix\n",
    "tvec_stem = pd.DataFrame(tvec.transform(title_stemmed).todense(),\n",
    "                           columns = tvec.get_feature_names())"
   ]
  },
  {
   "cell_type": "code",
   "execution_count": 30,
   "id": "578dc6ba",
   "metadata": {},
   "outputs": [
    {
     "data": {
      "text/plain": [
       "Index(['10', '2022', 'actual', 'age', 'ago', 'alway', 'american', 'ani',\n",
       "       'anim', 'anoth'],\n",
       "      dtype='object')"
      ]
     },
     "execution_count": 30,
     "metadata": {},
     "output_type": "execute_result"
    }
   ],
   "source": [
    "tvec_stem.columns[:10]"
   ]
  },
  {
   "cell_type": "code",
   "execution_count": 31,
   "id": "cc86a8b7",
   "metadata": {},
   "outputs": [],
   "source": [
    "# remove '10' because it could be any number due to stemming\n",
    "tvec_stem.drop('10', axis=1, inplace=True)"
   ]
  },
  {
   "cell_type": "markdown",
   "id": "bb66bc07",
   "metadata": {},
   "source": [
    "### Lemmatize"
   ]
  },
  {
   "cell_type": "code",
   "execution_count": 32,
   "id": "0b188939",
   "metadata": {},
   "outputs": [],
   "source": [
    "title_lemma = [' '.join([w.lemma_ for w in nlp(t)])\n",
    "                           for t in titles['title']]"
   ]
  },
  {
   "cell_type": "markdown",
   "id": "de8d8af9",
   "metadata": {},
   "source": [
    "#### TF-IDF Vectorize"
   ]
  },
  {
   "cell_type": "code",
   "execution_count": 33,
   "id": "c1059301",
   "metadata": {},
   "outputs": [],
   "source": [
    "# instantiate a tfidf vectorizer\n",
    "tvec = TfidfVectorizer(\n",
    "                       stop_words = 'english',\n",
    "                       strip_accents = 'ascii',\n",
    "                       max_features = 200,\n",
    "                       max_df = .60,\n",
    "                       norm = 'l2'\n",
    "        )\n",
    "\n",
    "# fit our vectorizer\n",
    "tvec.fit(title_lemma)\n",
    "\n",
    "# create tfidf matrix\n",
    "tvec_lemma = pd.DataFrame(tvec.transform(title_lemma).todense(),\n",
    "                           columns = tvec.get_feature_names())"
   ]
  },
  {
   "cell_type": "code",
   "execution_count": 34,
   "id": "47a2ff28",
   "metadata": {
    "scrolled": true
   },
   "outputs": [
    {
     "data": {
      "text/plain": [
       "Index(['10', '100', '2022', 'age', 'ago', 'american', 'anon', 'art', 'ask',\n",
       "       'attack'],\n",
       "      dtype='object')"
      ]
     },
     "execution_count": 34,
     "metadata": {},
     "output_type": "execute_result"
    }
   ],
   "source": [
    "tvec_lemma.columns[0:10]"
   ]
  },
  {
   "cell_type": "markdown",
   "id": "7c3281b2",
   "metadata": {},
   "source": [
    "**Observation** Keep 10, 100 because they are the original values and may have value."
   ]
  },
  {
   "cell_type": "markdown",
   "id": "0d6bf0b9",
   "metadata": {},
   "source": [
    "### Lemmatize and Stem"
   ]
  },
  {
   "cell_type": "code",
   "execution_count": 35,
   "id": "48547e7e",
   "metadata": {},
   "outputs": [],
   "source": [
    "title_lem_stem = [' '.join([ps.stem(w.text) for w in nlp(t)])\n",
    "                           for t in title_lemma]"
   ]
  },
  {
   "cell_type": "markdown",
   "id": "997a1921",
   "metadata": {},
   "source": [
    "#### TF-IDF Vectorize"
   ]
  },
  {
   "cell_type": "code",
   "execution_count": 36,
   "id": "ae7b938e",
   "metadata": {},
   "outputs": [],
   "source": [
    "# instantiate a tfidf vectorizer\n",
    "tvec = TfidfVectorizer(\n",
    "                       stop_words = 'english',\n",
    "                       strip_accents = 'ascii',\n",
    "                       max_features = 200,\n",
    "                       max_df = .60,\n",
    "                       norm = 'l2'\n",
    "        )\n",
    "\n",
    "# fit our vectorizer\n",
    "tvec.fit(title_lem_stem)\n",
    "\n",
    "# create tfidf matrix\n",
    "tvec_lem_stem = pd.DataFrame(tvec.transform(title_lem_stem).todense(),\n",
    "                           columns = tvec.get_feature_names())"
   ]
  },
  {
   "cell_type": "code",
   "execution_count": 37,
   "id": "c95036ff",
   "metadata": {
    "scrolled": true
   },
   "outputs": [
    {
     "data": {
      "text/plain": [
       "Index(['10', '2022', 'actual', 'age', 'ago', 'alway', 'american', 'ani',\n",
       "       'anim', 'anoth'],\n",
       "      dtype='object')"
      ]
     },
     "execution_count": 37,
     "metadata": {},
     "output_type": "execute_result"
    }
   ],
   "source": [
    "tvec_lem_stem.columns[0:10]"
   ]
  },
  {
   "cell_type": "code",
   "execution_count": 38,
   "id": "fcaf7f2a",
   "metadata": {},
   "outputs": [],
   "source": [
    "# remove '10' because it could be any number due to stemming\n",
    "tvec_lem_stem.drop('10', axis=1, inplace=True)"
   ]
  },
  {
   "cell_type": "markdown",
   "id": "3fd3532d",
   "metadata": {},
   "source": [
    "### Produce output files"
   ]
  },
  {
   "cell_type": "code",
   "execution_count": 39,
   "id": "361c8750",
   "metadata": {},
   "outputs": [],
   "source": [
    "titles.drop(['title','docs','emojis','emoticons'], axis = 1, inplace=True)"
   ]
  },
  {
   "cell_type": "code",
   "execution_count": 40,
   "id": "fad61f56",
   "metadata": {
    "code_folding": [],
    "scrolled": true
   },
   "outputs": [],
   "source": [
    "titles = titles.join(pos_df.drop('sum_pos', axis = 1))"
   ]
  },
  {
   "cell_type": "code",
   "execution_count": 41,
   "id": "3c623c35",
   "metadata": {},
   "outputs": [],
   "source": [
    "nlp_titles_naut = titles.join(tvec_naut)\n",
    "nlp_titles_stem = titles.join(tvec_stem)\n",
    "nlp_titles_lemma = titles.join(tvec_lemma)\n",
    "nlp_titles_lem_stem = titles.join(tvec_lem_stem)"
   ]
  },
  {
   "cell_type": "markdown",
   "id": "1f5bf7ff",
   "metadata": {},
   "source": [
    "#### Add back remaining attributes from scrapes"
   ]
  },
  {
   "cell_type": "code",
   "execution_count": 42,
   "id": "0661e300",
   "metadata": {},
   "outputs": [],
   "source": [
    "scrape_nlp_naut = scrape.drop('title', axis=1).join(nlp_titles_naut)\n",
    "scrape_nlp_stem = scrape.drop('title', axis=1).join(nlp_titles_stem)\n",
    "scrape_nlp_lemma = scrape.drop('title', axis=1).join(nlp_titles_lemma)\n",
    "scrape_nlp_lem_stem = scrape.drop('title', axis=1).join(nlp_titles_lem_stem)"
   ]
  },
  {
   "cell_type": "markdown",
   "id": "31c3830f",
   "metadata": {},
   "source": [
    "### Save and Export"
   ]
  },
  {
   "cell_type": "code",
   "execution_count": 43,
   "id": "0376c7c8",
   "metadata": {},
   "outputs": [],
   "source": [
    "scrape_nlp_naut.to_csv('../data/nlp_naut_data.csv', index = False)\n",
    "scrape_nlp_stem.to_csv('../data/nlp_stem_data.csv', index = False)\n",
    "scrape_nlp_lemma.to_csv('../data/nlp_lemma_data.csv', index = False)\n",
    "scrape_nlp_lem_stem.to_csv('../data/nlp_lem_stem_data.csv', index = False)"
   ]
  }
 ],
 "metadata": {
  "kernelspec": {
   "display_name": "Python 3 (ipykernel)",
   "language": "python",
   "name": "python3"
  },
  "language_info": {
   "codemirror_mode": {
    "name": "ipython",
    "version": 3
   },
   "file_extension": ".py",
   "mimetype": "text/x-python",
   "name": "python",
   "nbconvert_exporter": "python",
   "pygments_lexer": "ipython3",
   "version": "3.9.7"
  }
 },
 "nbformat": 4,
 "nbformat_minor": 5
}
