{
 "cells": [
  {
   "cell_type": "code",
   "execution_count": 10,
   "id": "f3a6228b",
   "metadata": {
    "code_folding": []
   },
   "outputs": [],
   "source": [
    "import pandas as pd\n",
    "import numpy as np\n",
    "import random\n",
    "\n",
    "import matplotlib.pyplot as plt\n",
    "import seaborn as sns\n",
    "\n",
    "from sklearn.preprocessing import StandardScaler\n",
    "from sklearn.model_selection import cross_val_score, GridSearchCV, cross_val_predict\n",
    "\n",
    "from sklearn.neighbors import KNeighborsClassifier\n",
    "from sklearn.linear_model import LogisticRegression, LogisticRegressionCV\n",
    "from sklearn.tree import DecisionTreeClassifier\n",
    "from sklearn.ensemble import (RandomForestClassifier,\n",
    "                                ExtraTreesClassifier,\n",
    "                                BaggingClassifier)\n",
    "\n",
    "from sklearn.metrics import confusion_matrix"
   ]
  },
  {
   "cell_type": "markdown",
   "id": "b801034a",
   "metadata": {},
   "source": [
    "## Import Data"
   ]
  },
  {
   "cell_type": "code",
   "execution_count": 3,
   "id": "1f9d7987",
   "metadata": {},
   "outputs": [],
   "source": [
    "df_naut = pd.read_csv('../data/nlp_naut_data.csv')\n",
    "df_stem = pd.read_csv('../data/nlp_stem_data.csv')\n",
    "df_lemma = pd.read_csv('../data/nlp_lemma_data.csv')\n",
    "df_lem_stem = pd.read_csv('../data/nlp_lem_stem_data.csv')"
   ]
  },
  {
   "cell_type": "markdown",
   "id": "8c097cfc",
   "metadata": {},
   "source": [
    "## Preprocessing"
   ]
  },
  {
   "cell_type": "code",
   "execution_count": 4,
   "id": "ce1c5bbd",
   "metadata": {},
   "outputs": [],
   "source": [
    "target = 'target'\n",
    "\n",
    "y_naut = df_naut[target]\n",
    "X_naut = df_naut[[col for col in df_naut.columns if col != target]]\n",
    "\n",
    "y_stem = df_stem[target]\n",
    "X_stem = df_stem[[col for col in df_stem.columns if col != target]]\n",
    "\n",
    "y_lemma = df_lemma[target]\n",
    "X_lemma = df_lemma[[col for col in df_lemma.columns if col != target]]\n",
    "\n",
    "y_lem_stem = df_lem_stem[target]\n",
    "X_lem_stem = df_lem_stem[[col for col in df_lem_stem.columns if col != target]]"
   ]
  },
  {
   "cell_type": "code",
   "execution_count": 5,
   "id": "a8d1d14b",
   "metadata": {},
   "outputs": [],
   "source": [
    "# Create Standard Scale Versions\n",
    "ss = StandardScaler()\n",
    "\n",
    "X_naut_ss = ss.fit_transform(X_naut)\n",
    "X_stem_ss = ss.fit_transform(X_stem)\n",
    "X_lemma_ss = ss.fit_transform(X_lemma)\n",
    "X_lem_stem_ss = ss.fit_transform(X_lem_stem)"
   ]
  },
  {
   "cell_type": "markdown",
   "id": "a225bd1e",
   "metadata": {},
   "source": [
    "## Model and Data Selection"
   ]
  },
  {
   "cell_type": "code",
   "execution_count": 5,
   "id": "5e54f335",
   "metadata": {
    "code_folding": []
   },
   "outputs": [],
   "source": [
    "# Create helper functions for evaluating our models\n",
    "def print_scores(scores):\n",
    "    print('Score: {:.2f} +- {:.2f}'.format(scores.mean(), 2*scores.std()), end = '     ')\n",
    "    print('min: {:.2f}, max: {:.2f}'.format(min(scores),max(scores)))\n",
    "\n",
    "def master_comparison_list(X, X_ss, y):\n",
    "    \n",
    "    logit = LogisticRegression(n_jobs = -1,)\n",
    "    scores = cross_val_score(logit, X_ss, y)\n",
    "    print('Logit', end = '            ')\n",
    "    print_scores(scores)\n",
    "    \n",
    "    knn = KNeighborsClassifier(n_jobs = -1)\n",
    "    scores = cross_val_score(knn, X_ss, y)\n",
    "    print('\\nKNN', end = '              ')\n",
    "    print_scores(scores)\n",
    "    \n",
    "    dt = DecisionTreeClassifier()\n",
    "    scores = cross_val_score(dt, X, y)\n",
    "    print('\\nDecision Tree', end = '    ')\n",
    "    print_scores(scores)\n",
    "   \n",
    "    bdt = BaggingClassifier(dt,\n",
    "                            n_jobs = -1)\n",
    "    scores = cross_val_score(bdt, X, y)\n",
    "    print('\\nBagging', end = '          ')\n",
    "    print_scores(scores)\n",
    "\n",
    "    rf = RandomForestClassifier(n_jobs = -1)\n",
    "    scores = cross_val_score(rf, X, y)\n",
    "    print('\\nRandom Forest', end = '    ')\n",
    "    print_scores(scores)\n",
    "    \n",
    "    et = ExtraTreesClassifier(n_jobs = -1)\n",
    "    scores = cross_val_score(et, X, y)\n",
    "    print('\\nExtra Trees', end = '      ')\n",
    "    print_scores(scores)"
   ]
  },
  {
   "cell_type": "code",
   "execution_count": 6,
   "id": "3b67025b",
   "metadata": {},
   "outputs": [
    {
     "name": "stdout",
     "output_type": "stream",
     "text": [
      "Logit            Score: 0.69 +- 0.03     min: 0.67, max: 0.72\n",
      "\n",
      "KNN              Score: 0.59 +- 0.02     min: 0.58, max: 0.60\n",
      "\n",
      "Decision Tree    Score: 0.63 +- 0.03     min: 0.61, max: 0.65\n",
      "\n",
      "Bagging          Score: 0.69 +- 0.02     min: 0.67, max: 0.70\n",
      "\n",
      "Random Forest    Score: 0.71 +- 0.03     min: 0.69, max: 0.73\n",
      "\n",
      "Extra Trees      Score: 0.69 +- 0.03     min: 0.68, max: 0.71\n"
     ]
    }
   ],
   "source": [
    "master_comparison_list(X_naut, X_naut_ss, y_naut)"
   ]
  },
  {
   "cell_type": "code",
   "execution_count": 7,
   "id": "07eb7361",
   "metadata": {},
   "outputs": [
    {
     "name": "stdout",
     "output_type": "stream",
     "text": [
      "Logit            Score: 0.70 +- 0.02     min: 0.68, max: 0.71\n",
      "\n",
      "KNN              Score: 0.58 +- 0.03     min: 0.56, max: 0.60\n",
      "\n",
      "Decision Tree    Score: 0.64 +- 0.03     min: 0.62, max: 0.66\n",
      "\n",
      "Bagging          Score: 0.69 +- 0.03     min: 0.68, max: 0.71\n",
      "\n",
      "Random Forest    Score: 0.71 +- 0.02     min: 0.70, max: 0.73\n",
      "\n",
      "Extra Trees      Score: 0.70 +- 0.03     min: 0.68, max: 0.72\n"
     ]
    }
   ],
   "source": [
    "master_comparison_list(X_stem, X_stem_ss, y_stem)"
   ]
  },
  {
   "cell_type": "code",
   "execution_count": 8,
   "id": "4a83a3ad",
   "metadata": {},
   "outputs": [
    {
     "name": "stdout",
     "output_type": "stream",
     "text": [
      "Logit            Score: 0.70 +- 0.02     min: 0.69, max: 0.71\n",
      "\n",
      "KNN              Score: 0.57 +- 0.02     min: 0.56, max: 0.59\n",
      "\n",
      "Decision Tree    Score: 0.64 +- 0.03     min: 0.61, max: 0.65\n",
      "\n",
      "Bagging          Score: 0.69 +- 0.03     min: 0.67, max: 0.71\n",
      "\n",
      "Random Forest    Score: 0.71 +- 0.03     min: 0.69, max: 0.72\n",
      "\n",
      "Extra Trees      Score: 0.69 +- 0.04     min: 0.67, max: 0.72\n"
     ]
    }
   ],
   "source": [
    "master_comparison_list(X_lemma, X_lemma_ss, y_lemma)"
   ]
  },
  {
   "cell_type": "code",
   "execution_count": 9,
   "id": "17d0681f",
   "metadata": {},
   "outputs": [
    {
     "name": "stdout",
     "output_type": "stream",
     "text": [
      "Logit            Score: 0.70 +- 0.02     min: 0.69, max: 0.71\n",
      "\n",
      "KNN              Score: 0.58 +- 0.03     min: 0.55, max: 0.59\n",
      "\n",
      "Decision Tree    Score: 0.63 +- 0.02     min: 0.62, max: 0.65\n",
      "\n",
      "Bagging          Score: 0.69 +- 0.04     min: 0.67, max: 0.72\n",
      "\n",
      "Random Forest    Score: 0.71 +- 0.02     min: 0.69, max: 0.73\n",
      "\n",
      "Extra Trees      Score: 0.69 +- 0.03     min: 0.68, max: 0.72\n"
     ]
    }
   ],
   "source": [
    "master_comparison_list(X_lem_stem, X_lem_stem_ss, y_lem_stem)"
   ]
  },
  {
   "cell_type": "markdown",
   "id": "313157c2",
   "metadata": {},
   "source": [
    "**Interpretation** The purpose of the `master_comparison_list` is to identify which dataframe to pursue model optimization on, as well as which models are worth exploring a `GridSearchCV` on.\n",
    "\n",
    "\n",
    "\n"
   ]
  },
  {
   "cell_type": "markdown",
   "id": "6e378623",
   "metadata": {},
   "source": [
    "The above scorings indicate that under default configuration and regardless of dataframe:\n",
    "  *  KNN performs the worst\n",
    "  *  Logistic Regression (Logit) is the 2nd or 3rd most accurate model\n",
    "  *  Random Forest outperfoms Extra Trees, Bagging, and Decision Trees\n",
    "\n",
    "Based on the above, **Random Forest** and **Logit** will be further explored"
   ]
  },
  {
   "cell_type": "markdown",
   "id": "62695c9e",
   "metadata": {},
   "source": [
    "The above scorings also indicate that under default configuration:\n",
    "  *  The Naut dataframe--just tf-idf vectorization applied--performs the worst\n",
    "  *  The remaining three dataframes are all very close\n",
    "  \n",
    "Based on the above, the **lemma dataframe** will be used during further exploration due to its more accessible interpretation"
   ]
  },
  {
   "cell_type": "markdown",
   "id": "3439ec24",
   "metadata": {},
   "source": [
    "## Modelling"
   ]
  },
  {
   "cell_type": "markdown",
   "id": "9649f507",
   "metadata": {},
   "source": [
    "### Baseline"
   ]
  },
  {
   "cell_type": "code",
   "execution_count": 6,
   "id": "9622852d",
   "metadata": {},
   "outputs": [
    {
     "data": {
      "text/plain": [
       "0    0.504449\n",
       "1    0.495551\n",
       "Name: target, dtype: float64"
      ]
     },
     "execution_count": 6,
     "metadata": {},
     "output_type": "execute_result"
    }
   ],
   "source": [
    "df_lemma.target.value_counts(normalize=True)"
   ]
  },
  {
   "cell_type": "markdown",
   "id": "9dc9e605",
   "metadata": {},
   "source": [
    "**Observation**\n",
    "The baseline for our model will be 50.44%. Given our scores in the above section, the data discovered during EDA and NLP should be sufficient to answer the question."
   ]
  },
  {
   "cell_type": "markdown",
   "id": "e1c00783",
   "metadata": {},
   "source": [
    "### Logit Variable Selection via Lasso"
   ]
  },
  {
   "cell_type": "code",
   "execution_count": 11,
   "id": "d7f938f2",
   "metadata": {},
   "outputs": [],
   "source": [
    "# fit Logit CV\n",
    "logit_cv = LogisticRegressionCV(penalty='l1',\n",
    "                                solver = 'liblinear',\n",
    "                                n_jobs = -1)"
   ]
  },
  {
   "cell_type": "code",
   "execution_count": 13,
   "id": "6f7db533",
   "metadata": {},
   "outputs": [
    {
     "name": "stdout",
     "output_type": "stream",
     "text": [
      "Best C:  0.046415888336127774\n",
      "Score:  0.7165288391081336\n"
     ]
    }
   ],
   "source": [
    "logit_cv.fit(X_lemma_ss, y_lemma)\n",
    "print(\"Best C: \", logit_cv.C_[0])\n",
    "print(\"Score: \",logit_cv.score(X_lemma_ss, y_lemma))"
   ]
  },
  {
   "cell_type": "code",
   "execution_count": 14,
   "id": "0a5a250c",
   "metadata": {},
   "outputs": [
    {
     "data": {
      "text/plain": [
       "LogisticRegression(C=0.046415888336127774, penalty='l1', solver='liblinear')"
      ]
     },
     "execution_count": 14,
     "metadata": {},
     "output_type": "execute_result"
    }
   ],
   "source": [
    "# fit a logistic regression with the best C identified above\n",
    "logit = LogisticRegression(penalty='l1',\n",
    "                           solver = 'liblinear',\n",
    "                           C = logit_cv.C_[0])\n",
    "\n",
    "logit.fit(X_lemma_ss, y_lemma)"
   ]
  },
  {
   "cell_type": "code",
   "execution_count": 15,
   "id": "e2d4bb82",
   "metadata": {},
   "outputs": [
    {
     "data": {
      "text/plain": [
       "169"
      ]
     },
     "execution_count": 15,
     "metadata": {},
     "output_type": "execute_result"
    }
   ],
   "source": [
    "# Get columns from lasso feature selection\n",
    "final_columns_lasso = [col for col, coef in zip(X_lemma.columns, logit.coef_[0]) if coef]\n",
    "len(final_columns_lasso)"
   ]
  },
  {
   "cell_type": "markdown",
   "id": "70c144b3",
   "metadata": {},
   "source": [
    "**Observation** We have gone from 247 variables down to 169."
   ]
  },
  {
   "cell_type": "code",
   "execution_count": 16,
   "id": "36b8619b",
   "metadata": {},
   "outputs": [
    {
     "name": "stdout",
     "output_type": "stream",
     "text": [
      "Score: 0.70 +- 0.01     min: 0.69, max: 0.71\n"
     ]
    }
   ],
   "source": [
    "# instantiate logistic regression without lasso penalty\n",
    "logit = LogisticRegression(n_jobs=-1)\n",
    "\n",
    "scores = cross_val_score(logit, pd.DataFrame(X_lemma_ss, columns = X_lemma.columns)[final_columns_lasso], y_lemma)\n",
    "print_scores(scores)"
   ]
  },
  {
   "cell_type": "markdown",
   "id": "40e86aef",
   "metadata": {},
   "source": [
    "**Observation** No substantial increase in score"
   ]
  },
  {
   "cell_type": "code",
   "execution_count": 17,
   "id": "a49b2854",
   "metadata": {},
   "outputs": [
    {
     "data": {
      "text/plain": [
       "LogisticRegression(n_jobs=-1)"
      ]
     },
     "execution_count": 17,
     "metadata": {},
     "output_type": "execute_result"
    }
   ],
   "source": [
    "# fit logistic regression to get coefficients for interpretation\n",
    "logit.fit(pd.DataFrame(X_lemma_ss, columns = X_lemma.columns)[final_columns_lasso], y_lemma)"
   ]
  },
  {
   "cell_type": "code",
   "execution_count": 18,
   "id": "dcf539e2",
   "metadata": {},
   "outputs": [],
   "source": [
    "coef_list = pd.Series(logit.coef_[0],\n",
    "                      index = pd.DataFrame(X_lemma_ss, columns = X_lemma.columns)[final_columns_lasso].columns)"
   ]
  },
  {
   "cell_type": "code",
   "execution_count": 19,
   "id": "ab56144e",
   "metadata": {},
   "outputs": [
    {
     "data": {
      "text/plain": [
       "post_age_min               0.796585\n",
       "is_successful_subreddit    0.658318\n",
       "subreddit_subscribers      0.442217\n",
       "NOUN                       0.170543\n",
       "PROPN                      0.158819\n",
       "VERB                       0.140580\n",
       "game                       0.107419\n",
       "update                     0.101846\n",
       "woman                      0.098876\n",
       "people                     0.085564\n",
       "dtype: float64"
      ]
     },
     "execution_count": 19,
     "metadata": {},
     "output_type": "execute_result"
    }
   ],
   "source": [
    "# top 10 positively affected predictor variables\n",
    "coef_list.sort_values(ascending=False)[:10]"
   ]
  },
  {
   "cell_type": "code",
   "execution_count": 21,
   "id": "4524a37b",
   "metadata": {},
   "outputs": [
    {
     "data": {
      "text/plain": [
       "art                      -0.120293\n",
       "is_successful_domain     -0.114925\n",
       "is_reddit_media_domain   -0.114925\n",
       "CCONJ                    -0.085136\n",
       "light                    -0.079151\n",
       "polarity                 -0.075228\n",
       "PUNCT                    -0.074444\n",
       "little                   -0.070405\n",
       "beautiful                -0.065993\n",
       "work                     -0.058328\n",
       "dtype: float64"
      ]
     },
     "execution_count": 21,
     "metadata": {},
     "output_type": "execute_result"
    }
   ],
   "source": [
    "# top 10 negatively affected predictor variables\n",
    "coef_list.sort_values()[:10]"
   ]
  },
  {
   "cell_type": "markdown",
   "id": "d8e32620",
   "metadata": {},
   "source": [
    "**Observation** The presence of words like `game` and `update` are valid recommendations from this model. However, the IDF of the corpus would need to be calculated in order to provide an interpretation that is actionable as a function of the percentage of words in the title that are `game` or `update`."
   ]
  },
  {
   "cell_type": "markdown",
   "id": "7056807b",
   "metadata": {},
   "source": [
    "### Random Forest Modeling via GridSearch"
   ]
  },
  {
   "cell_type": "code",
   "execution_count": 7,
   "id": "1ce9acf3",
   "metadata": {},
   "outputs": [],
   "source": [
    "rf_params = {\n",
    "    'n_estimators': [100,250,500],\n",
    "    'max_depth': [5,10,None],\n",
    "    'min_samples_split': [2,5,10]\n",
    "}"
   ]
  },
  {
   "cell_type": "code",
   "execution_count": 23,
   "id": "ec33aeb3",
   "metadata": {},
   "outputs": [],
   "source": [
    "rf_gridsearch=GridSearchCV(RandomForestClassifier(n_jobs = -1),\n",
    "              rf_params,\n",
    "              cv = 5,\n",
    "              verbose = 1)"
   ]
  },
  {
   "cell_type": "code",
   "execution_count": 24,
   "id": "d539ffe4",
   "metadata": {},
   "outputs": [
    {
     "name": "stdout",
     "output_type": "stream",
     "text": [
      "Fitting 5 folds for each of 27 candidates, totalling 135 fits\n"
     ]
    },
    {
     "data": {
      "text/plain": [
       "GridSearchCV(cv=5, estimator=RandomForestClassifier(n_jobs=-1),\n",
       "             param_grid={'max_depth': [5, 10, None],\n",
       "                         'min_samples_split': [2, 5, 10],\n",
       "                         'n_estimators': [100, 250, 500]},\n",
       "             verbose=1)"
      ]
     },
     "execution_count": 24,
     "metadata": {},
     "output_type": "execute_result"
    }
   ],
   "source": [
    "rf_gridsearch.fit(X_lemma,y_lemma)"
   ]
  },
  {
   "cell_type": "code",
   "execution_count": 25,
   "id": "d9678259",
   "metadata": {},
   "outputs": [
    {
     "data": {
      "text/plain": [
       "0.7220776929378275"
      ]
     },
     "execution_count": 25,
     "metadata": {},
     "output_type": "execute_result"
    }
   ],
   "source": [
    "rf_gridsearch.best_score_"
   ]
  },
  {
   "cell_type": "code",
   "execution_count": 26,
   "id": "471b515e",
   "metadata": {},
   "outputs": [
    {
     "data": {
      "text/plain": [
       "{'max_depth': None, 'min_samples_split': 10, 'n_estimators': 100}"
      ]
     },
     "execution_count": 26,
     "metadata": {},
     "output_type": "execute_result"
    }
   ],
   "source": [
    "rf_gridsearch.best_params_"
   ]
  },
  {
   "cell_type": "code",
   "execution_count": 8,
   "id": "24592b85",
   "metadata": {},
   "outputs": [],
   "source": [
    "# instantiate random forest with gridsearch best params\n",
    "rf = RandomForestClassifier(n_jobs = -1,\n",
    "                           min_samples_split=10,\n",
    "                           n_estimators = 250,\n",
    "                           random_state=66)"
   ]
  },
  {
   "cell_type": "code",
   "execution_count": 28,
   "id": "332d9357",
   "metadata": {},
   "outputs": [
    {
     "data": {
      "text/plain": [
       "RandomForestClassifier(min_samples_split=10, n_estimators=250, n_jobs=-1,\n",
       "                       random_state=66)"
      ]
     },
     "execution_count": 28,
     "metadata": {},
     "output_type": "execute_result"
    }
   ],
   "source": [
    "rf.fit(X_lemma, y_lemma)"
   ]
  },
  {
   "cell_type": "code",
   "execution_count": 29,
   "id": "57a718bf",
   "metadata": {},
   "outputs": [
    {
     "data": {
      "text/plain": [
       "subreddit_subscribers      0.138247\n",
       "post_age_min               0.122975\n",
       "is_successful_subreddit    0.048124\n",
       "title_length               0.046760\n",
       "title_word_count           0.029282\n",
       "NOUN_percent               0.024678\n",
       "polarity                   0.022242\n",
       "VERB_percent               0.022138\n",
       "PUNCT_percent              0.020327\n",
       "ADP_percent                0.018472\n",
       "subjectivity               0.018362\n",
       "PRON_percent               0.017735\n",
       "NOUN                       0.017660\n",
       "ADJ_percent                0.016920\n",
       "DET_percent                0.016311\n",
       "PROPN_percent              0.016285\n",
       "AUX_percent                0.015692\n",
       "ADV_percent                0.012502\n",
       "VERB                       0.011726\n",
       "PROPN                      0.011645\n",
       "dtype: float64"
      ]
     },
     "execution_count": 29,
     "metadata": {},
     "output_type": "execute_result"
    }
   ],
   "source": [
    "pd.Series(rf.feature_importances_, index = X_lemma.columns).sort_values(ascending = False)[:20]"
   ]
  },
  {
   "cell_type": "markdown",
   "id": "7f9f76cc",
   "metadata": {},
   "source": [
    "**Observation** The percent values appear to be above their count amount counterpart. Remove them."
   ]
  },
  {
   "cell_type": "code",
   "execution_count": 12,
   "id": "fa442407",
   "metadata": {},
   "outputs": [],
   "source": [
    "X_lemma_adj = X_lemma.drop(['ADJ', 'ADP', 'ADV', 'AUX', 'CCONJ', 'DET'\n",
    "                                , 'INTJ', 'NOUN', 'NUM', 'PART', 'PRON'\n",
    "                                , 'PROPN', 'PUNCT', 'SCONJ', 'SYM', 'VERB', 'X'],\n",
    "                              axis = 1)"
   ]
  },
  {
   "cell_type": "code",
   "execution_count": 31,
   "id": "b894c167",
   "metadata": {},
   "outputs": [
    {
     "data": {
      "text/plain": [
       "RandomForestClassifier(min_samples_split=10, n_estimators=250, n_jobs=-1,\n",
       "                       random_state=66)"
      ]
     },
     "execution_count": 31,
     "metadata": {},
     "output_type": "execute_result"
    }
   ],
   "source": [
    "rf.fit(X_lemma_adj, y_lemma)"
   ]
  },
  {
   "cell_type": "code",
   "execution_count": 32,
   "id": "90b7cb91",
   "metadata": {},
   "outputs": [
    {
     "data": {
      "text/plain": [
       "subreddit_subscribers      0.149054\n",
       "post_age_min               0.132123\n",
       "title_length               0.053768\n",
       "is_successful_subreddit    0.048185\n",
       "title_word_count           0.034897\n",
       "NOUN_percent               0.029760\n",
       "VERB_percent               0.028447\n",
       "polarity                   0.025215\n",
       "PUNCT_percent              0.024297\n",
       "ADP_percent                0.023106\n",
       "PRON_percent               0.021893\n",
       "PROPN_percent              0.021033\n",
       "AUX_percent                0.020990\n",
       "subjectivity               0.020813\n",
       "ADJ_percent                0.020683\n",
       "DET_percent                0.019915\n",
       "ADV_percent                0.015443\n",
       "PART_percent               0.012760\n",
       "NUM_percent                0.011958\n",
       "is_successful_domain       0.011494\n",
       "dtype: float64"
      ]
     },
     "execution_count": 32,
     "metadata": {},
     "output_type": "execute_result"
    }
   ],
   "source": [
    "pd.Series(rf.feature_importances_, index = X_lemma_adj.columns).sort_values(ascending = False)[:20]"
   ]
  },
  {
   "cell_type": "code",
   "execution_count": 33,
   "id": "91fec09a",
   "metadata": {},
   "outputs": [
    {
     "name": "stdout",
     "output_type": "stream",
     "text": [
      "Score: 0.72 +- 0.02     min: 0.70, max: 0.73\n"
     ]
    }
   ],
   "source": [
    "scores = cross_val_score(rf, pd.DataFrame(X_lemma, columns = X_lemma.columns), y_lemma)\n",
    "print_scores(scores)"
   ]
  },
  {
   "cell_type": "code",
   "execution_count": 34,
   "id": "45d50739",
   "metadata": {},
   "outputs": [
    {
     "name": "stdout",
     "output_type": "stream",
     "text": [
      "Score: 0.72 +- 0.02     min: 0.70, max: 0.73\n"
     ]
    }
   ],
   "source": [
    "scores = cross_val_score(rf, pd.DataFrame(X_lemma_adj, columns = X_lemma_adj.columns), y_lemma)\n",
    "print_scores(scores)"
   ]
  },
  {
   "cell_type": "markdown",
   "id": "63a24aef",
   "metadata": {},
   "source": [
    "**Observation** No real movement in scores, go with the newly adjusted dataframe to make interpretation clearer."
   ]
  },
  {
   "cell_type": "markdown",
   "id": "1f30f7f2",
   "metadata": {},
   "source": [
    "### Investigate High Feature Importance Attributes"
   ]
  },
  {
   "cell_type": "code",
   "execution_count": 35,
   "id": "e482d1ac",
   "metadata": {},
   "outputs": [
    {
     "data": {
      "text/html": [
       "<div>\n",
       "<style scoped>\n",
       "    .dataframe tbody tr th:only-of-type {\n",
       "        vertical-align: middle;\n",
       "    }\n",
       "\n",
       "    .dataframe tbody tr th {\n",
       "        vertical-align: top;\n",
       "    }\n",
       "\n",
       "    .dataframe thead th {\n",
       "        text-align: right;\n",
       "    }\n",
       "</style>\n",
       "<table border=\"1\" class=\"dataframe\">\n",
       "  <thead>\n",
       "    <tr style=\"text-align: right;\">\n",
       "      <th></th>\n",
       "      <th>count</th>\n",
       "      <th>mean</th>\n",
       "      <th>std</th>\n",
       "      <th>min</th>\n",
       "      <th>25%</th>\n",
       "      <th>50%</th>\n",
       "      <th>75%</th>\n",
       "      <th>max</th>\n",
       "    </tr>\n",
       "    <tr>\n",
       "      <th>target</th>\n",
       "      <th></th>\n",
       "      <th></th>\n",
       "      <th></th>\n",
       "      <th></th>\n",
       "      <th></th>\n",
       "      <th></th>\n",
       "      <th></th>\n",
       "      <th></th>\n",
       "    </tr>\n",
       "  </thead>\n",
       "  <tbody>\n",
       "    <tr>\n",
       "      <th>0</th>\n",
       "      <td>4819.0</td>\n",
       "      <td>9.075587e+05</td>\n",
       "      <td>2.784150e+06</td>\n",
       "      <td>5381.0</td>\n",
       "      <td>105358.5</td>\n",
       "      <td>248789.0</td>\n",
       "      <td>657184.0</td>\n",
       "      <td>40814502.0</td>\n",
       "    </tr>\n",
       "    <tr>\n",
       "      <th>1</th>\n",
       "      <td>4734.0</td>\n",
       "      <td>3.255456e+06</td>\n",
       "      <td>6.646656e+06</td>\n",
       "      <td>8339.0</td>\n",
       "      <td>295479.0</td>\n",
       "      <td>807636.0</td>\n",
       "      <td>2406971.5</td>\n",
       "      <td>40854908.0</td>\n",
       "    </tr>\n",
       "  </tbody>\n",
       "</table>\n",
       "</div>"
      ],
      "text/plain": [
       "         count          mean           std     min       25%       50%  \\\n",
       "target                                                                   \n",
       "0       4819.0  9.075587e+05  2.784150e+06  5381.0  105358.5  248789.0   \n",
       "1       4734.0  3.255456e+06  6.646656e+06  8339.0  295479.0  807636.0   \n",
       "\n",
       "              75%         max  \n",
       "target                         \n",
       "0        657184.0  40814502.0  \n",
       "1       2406971.5  40854908.0  "
      ]
     },
     "execution_count": 35,
     "metadata": {},
     "output_type": "execute_result"
    }
   ],
   "source": [
    "df_lemma.groupby('target').subreddit_subscribers.describe()"
   ]
  },
  {
   "cell_type": "code",
   "execution_count": 37,
   "id": "7958f8a8",
   "metadata": {},
   "outputs": [
    {
     "data": {
      "image/png": "[encoded data removed]",
      "text/plain": [
       "<Figure size 720x360 with 1 Axes>"
      ]
     },
     "metadata": {
      "needs_background": "light"
     },
     "output_type": "display_data"
    }
   ],
   "source": [
    "box = pd.DataFrame([df_lemma[df_lemma.target==0].subreddit_subscribers,\n",
    "                    df_lemma[df_lemma.target==1].subreddit_subscribers],\n",
    "                   index = ['not hot', 'hot']) \n",
    "box = box.T.boxplot(vert=False,)\n",
    "box.set_title(\"Subreddit Subscribers Distr.\")\n",
    "box.set_xlabel(\"# Subscribers\")\n",
    "fig = plt.gcf()\n",
    "fig.set_size_inches(10,5);"
   ]
  },
  {
   "cell_type": "markdown",
   "id": "0da94e7a",
   "metadata": {},
   "source": [
    "**Interpretation** Both subsets are right skewed with max values of 40M, but the value of the upper quartile for Not Hot being only 657K indicates that a significant amount of Not Hot posts are in these types of small subreddits (compare this to Hot's upper quartile of 2.4M).\n",
    "\n",
    "This indicates that posts should at least be 2.4M in subscriber size to increase chances of post success. "
   ]
  },
  {
   "cell_type": "code",
   "execution_count": 38,
   "id": "9e9ed8e7",
   "metadata": {},
   "outputs": [
    {
     "data": {
      "text/html": [
       "<div>\n",
       "<style scoped>\n",
       "    .dataframe tbody tr th:only-of-type {\n",
       "        vertical-align: middle;\n",
       "    }\n",
       "\n",
       "    .dataframe tbody tr th {\n",
       "        vertical-align: top;\n",
       "    }\n",
       "\n",
       "    .dataframe thead th {\n",
       "        text-align: right;\n",
       "    }\n",
       "</style>\n",
       "<table border=\"1\" class=\"dataframe\">\n",
       "  <thead>\n",
       "    <tr style=\"text-align: right;\">\n",
       "      <th></th>\n",
       "      <th>count</th>\n",
       "      <th>mean</th>\n",
       "      <th>std</th>\n",
       "      <th>min</th>\n",
       "      <th>25%</th>\n",
       "      <th>50%</th>\n",
       "      <th>75%</th>\n",
       "      <th>max</th>\n",
       "    </tr>\n",
       "    <tr>\n",
       "      <th>target</th>\n",
       "      <th></th>\n",
       "      <th></th>\n",
       "      <th></th>\n",
       "      <th></th>\n",
       "      <th></th>\n",
       "      <th></th>\n",
       "      <th></th>\n",
       "      <th></th>\n",
       "    </tr>\n",
       "  </thead>\n",
       "  <tbody>\n",
       "    <tr>\n",
       "      <th>0</th>\n",
       "      <td>4819.0</td>\n",
       "      <td>403.134818</td>\n",
       "      <td>192.785002</td>\n",
       "      <td>22.599620</td>\n",
       "      <td>256.027083</td>\n",
       "      <td>374.260253</td>\n",
       "      <td>524.701175</td>\n",
       "      <td>1392.201954</td>\n",
       "    </tr>\n",
       "    <tr>\n",
       "      <th>1</th>\n",
       "      <td>4734.0</td>\n",
       "      <td>535.906795</td>\n",
       "      <td>238.825469</td>\n",
       "      <td>26.250978</td>\n",
       "      <td>358.699023</td>\n",
       "      <td>508.571000</td>\n",
       "      <td>690.303498</td>\n",
       "      <td>1426.258418</td>\n",
       "    </tr>\n",
       "  </tbody>\n",
       "</table>\n",
       "</div>"
      ],
      "text/plain": [
       "         count        mean         std        min         25%         50%  \\\n",
       "target                                                                      \n",
       "0       4819.0  403.134818  192.785002  22.599620  256.027083  374.260253   \n",
       "1       4734.0  535.906795  238.825469  26.250978  358.699023  508.571000   \n",
       "\n",
       "               75%          max  \n",
       "target                           \n",
       "0       524.701175  1392.201954  \n",
       "1       690.303498  1426.258418  "
      ]
     },
     "execution_count": 38,
     "metadata": {},
     "output_type": "execute_result"
    }
   ],
   "source": [
    "df_lemma.groupby('target').post_age_min.describe()"
   ]
  },
  {
   "cell_type": "code",
   "execution_count": 39,
   "id": "9d2bc2b0",
   "metadata": {},
   "outputs": [
    {
     "data": {
      "image/png": "[encoded data removed]",
      "text/plain": [
       "<Figure size 720x360 with 1 Axes>"
      ]
     },
     "metadata": {
      "needs_background": "light"
     },
     "output_type": "display_data"
    }
   ],
   "source": [
    "box = pd.DataFrame([df_lemma[df_lemma.target==0].post_age_min,\n",
    "                    df_lemma[df_lemma.target==1].post_age_min],\n",
    "                   index = ['not hot', 'hot']) \n",
    "box = box.T.boxplot(vert=False,)\n",
    "box.set_title(\"Age of Post (Min.) Distr.\")\n",
    "box.set_xlabel(\"Minutes\")\n",
    "fig = plt.gcf()\n",
    "fig.set_size_inches(10,5);"
   ]
  },
  {
   "cell_type": "markdown",
   "id": "94ec3136",
   "metadata": {},
   "source": [
    "**Interpretation** Unlike the other variables, `post_age_min` isn't a controllable variable in that you cannot artificially increase a post's age. However, as Hot posts trend higher in `post_age_min`, it is recommended that 8 hours pass before determining if a post is *not* successful."
   ]
  },
  {
   "cell_type": "code",
   "execution_count": 40,
   "id": "2a2d64a2",
   "metadata": {},
   "outputs": [
    {
     "data": {
      "text/html": [
       "<div>\n",
       "<style scoped>\n",
       "    .dataframe tbody tr th:only-of-type {\n",
       "        vertical-align: middle;\n",
       "    }\n",
       "\n",
       "    .dataframe tbody tr th {\n",
       "        vertical-align: top;\n",
       "    }\n",
       "\n",
       "    .dataframe thead th {\n",
       "        text-align: right;\n",
       "    }\n",
       "</style>\n",
       "<table border=\"1\" class=\"dataframe\">\n",
       "  <thead>\n",
       "    <tr style=\"text-align: right;\">\n",
       "      <th></th>\n",
       "      <th>count</th>\n",
       "      <th>mean</th>\n",
       "      <th>std</th>\n",
       "      <th>min</th>\n",
       "      <th>25%</th>\n",
       "      <th>50%</th>\n",
       "      <th>75%</th>\n",
       "      <th>max</th>\n",
       "    </tr>\n",
       "    <tr>\n",
       "      <th>target</th>\n",
       "      <th></th>\n",
       "      <th></th>\n",
       "      <th></th>\n",
       "      <th></th>\n",
       "      <th></th>\n",
       "      <th></th>\n",
       "      <th></th>\n",
       "      <th></th>\n",
       "    </tr>\n",
       "  </thead>\n",
       "  <tbody>\n",
       "    <tr>\n",
       "      <th>0</th>\n",
       "      <td>4819.0</td>\n",
       "      <td>41.960365</td>\n",
       "      <td>38.651763</td>\n",
       "      <td>1.0</td>\n",
       "      <td>18.5</td>\n",
       "      <td>31.0</td>\n",
       "      <td>53.0</td>\n",
       "      <td>300.0</td>\n",
       "    </tr>\n",
       "    <tr>\n",
       "      <th>1</th>\n",
       "      <td>4734.0</td>\n",
       "      <td>58.076468</td>\n",
       "      <td>50.396057</td>\n",
       "      <td>1.0</td>\n",
       "      <td>25.0</td>\n",
       "      <td>43.0</td>\n",
       "      <td>74.0</td>\n",
       "      <td>300.0</td>\n",
       "    </tr>\n",
       "  </tbody>\n",
       "</table>\n",
       "</div>"
      ],
      "text/plain": [
       "         count       mean        std  min   25%   50%   75%    max\n",
       "target                                                            \n",
       "0       4819.0  41.960365  38.651763  1.0  18.5  31.0  53.0  300.0\n",
       "1       4734.0  58.076468  50.396057  1.0  25.0  43.0  74.0  300.0"
      ]
     },
     "execution_count": 40,
     "metadata": {},
     "output_type": "execute_result"
    }
   ],
   "source": [
    "df_lemma.groupby('target').title_length.describe()"
   ]
  },
  {
   "cell_type": "code",
   "execution_count": 41,
   "id": "91f340b9",
   "metadata": {},
   "outputs": [
    {
     "data": {
      "image/png": "[encoded data removed]",
      "text/plain": [
       "<Figure size 720x360 with 1 Axes>"
      ]
     },
     "metadata": {
      "needs_background": "light"
     },
     "output_type": "display_data"
    }
   ],
   "source": [
    "box = pd.DataFrame([df_lemma[df_lemma.target==0].title_length,\n",
    "                    df_lemma[df_lemma.target==1].title_length],\n",
    "                   index = ['not hot', 'hot']) \n",
    "box = box.T.boxplot(vert=False,)\n",
    "box.set_title(\"Title Length Distr.\")\n",
    "box.set_xlabel(\"# of Characters\")\n",
    "fig = plt.gcf()\n",
    "fig.set_size_inches(10,5);\n"
   ]
  },
  {
   "cell_type": "markdown",
   "id": "9048cd2b",
   "metadata": {},
   "source": [
    "**Interpretation** Hot posts have `title_lengths` trending upwards. This indicates that posts should be somewhat long and not rely on single words or emojis for titles."
   ]
  },
  {
   "cell_type": "code",
   "execution_count": 42,
   "id": "c38aaf85",
   "metadata": {},
   "outputs": [
    {
     "data": {
      "text/html": [
       "<div>\n",
       "<style scoped>\n",
       "    .dataframe tbody tr th:only-of-type {\n",
       "        vertical-align: middle;\n",
       "    }\n",
       "\n",
       "    .dataframe tbody tr th {\n",
       "        vertical-align: top;\n",
       "    }\n",
       "\n",
       "    .dataframe thead th {\n",
       "        text-align: right;\n",
       "    }\n",
       "</style>\n",
       "<table border=\"1\" class=\"dataframe\">\n",
       "  <thead>\n",
       "    <tr style=\"text-align: right;\">\n",
       "      <th></th>\n",
       "      <th>count</th>\n",
       "      <th>mean</th>\n",
       "      <th>std</th>\n",
       "      <th>min</th>\n",
       "      <th>25%</th>\n",
       "      <th>50%</th>\n",
       "      <th>75%</th>\n",
       "      <th>max</th>\n",
       "    </tr>\n",
       "    <tr>\n",
       "      <th>target</th>\n",
       "      <th></th>\n",
       "      <th></th>\n",
       "      <th></th>\n",
       "      <th></th>\n",
       "      <th></th>\n",
       "      <th></th>\n",
       "      <th></th>\n",
       "      <th></th>\n",
       "    </tr>\n",
       "  </thead>\n",
       "  <tbody>\n",
       "    <tr>\n",
       "      <th>0</th>\n",
       "      <td>4819.0</td>\n",
       "      <td>0.109071</td>\n",
       "      <td>0.136179</td>\n",
       "      <td>0.0</td>\n",
       "      <td>0.0</td>\n",
       "      <td>0.085714</td>\n",
       "      <td>0.166667</td>\n",
       "      <td>1.0</td>\n",
       "    </tr>\n",
       "    <tr>\n",
       "      <th>1</th>\n",
       "      <td>4734.0</td>\n",
       "      <td>0.120348</td>\n",
       "      <td>0.127492</td>\n",
       "      <td>0.0</td>\n",
       "      <td>0.0</td>\n",
       "      <td>0.111111</td>\n",
       "      <td>0.169913</td>\n",
       "      <td>1.0</td>\n",
       "    </tr>\n",
       "  </tbody>\n",
       "</table>\n",
       "</div>"
      ],
      "text/plain": [
       "         count      mean       std  min  25%       50%       75%  max\n",
       "target                                                               \n",
       "0       4819.0  0.109071  0.136179  0.0  0.0  0.085714  0.166667  1.0\n",
       "1       4734.0  0.120348  0.127492  0.0  0.0  0.111111  0.169913  1.0"
      ]
     },
     "execution_count": 42,
     "metadata": {},
     "output_type": "execute_result"
    }
   ],
   "source": [
    "df_lemma.groupby('target').VERB_percent.describe()"
   ]
  },
  {
   "cell_type": "code",
   "execution_count": 43,
   "id": "545abfb5",
   "metadata": {},
   "outputs": [
    {
     "data": {
      "image/png": "[encoded data removed]",
      "text/plain": [
       "<Figure size 720x360 with 1 Axes>"
      ]
     },
     "metadata": {
      "needs_background": "light"
     },
     "output_type": "display_data"
    }
   ],
   "source": [
    "box = pd.DataFrame([df_lemma[df_lemma.target==0].VERB_percent,\n",
    "                    df_lemma[df_lemma.target==1].VERB_percent],\n",
    "                   index = ['not hot', 'hot']) \n",
    "box = box.T.boxplot(vert=False,)\n",
    "box.set_title(\"Title Verb Percentage Distr.\")\n",
    "box.set_xlabel(\"Percentage\")\n",
    "fig = plt.gcf()\n",
    "fig.set_size_inches(10,5);\n"
   ]
  },
  {
   "cell_type": "markdown",
   "id": "8c9d5603",
   "metadata": {},
   "source": [
    "**Interpretation** A key takeaway here is that there is upward pressure for Hot posts on the percent of Verbs in the title. Even though the upper quartile values are about even, the density of the Hot posts is still higher overall for percent of Verbs.\n",
    "\n",
    "This indicates that maintaining a solid presence of verbs in the 10-12% range will help yield a better-performing post."
   ]
  },
  {
   "cell_type": "code",
   "execution_count": 44,
   "id": "a634ce6c",
   "metadata": {},
   "outputs": [
    {
     "data": {
      "text/html": [
       "<div>\n",
       "<style scoped>\n",
       "    .dataframe tbody tr th:only-of-type {\n",
       "        vertical-align: middle;\n",
       "    }\n",
       "\n",
       "    .dataframe tbody tr th {\n",
       "        vertical-align: top;\n",
       "    }\n",
       "\n",
       "    .dataframe thead th {\n",
       "        text-align: right;\n",
       "    }\n",
       "</style>\n",
       "<table border=\"1\" class=\"dataframe\">\n",
       "  <thead>\n",
       "    <tr style=\"text-align: right;\">\n",
       "      <th></th>\n",
       "      <th>count</th>\n",
       "      <th>mean</th>\n",
       "      <th>std</th>\n",
       "      <th>min</th>\n",
       "      <th>25%</th>\n",
       "      <th>50%</th>\n",
       "      <th>75%</th>\n",
       "      <th>max</th>\n",
       "    </tr>\n",
       "    <tr>\n",
       "      <th>target</th>\n",
       "      <th></th>\n",
       "      <th></th>\n",
       "      <th></th>\n",
       "      <th></th>\n",
       "      <th></th>\n",
       "      <th></th>\n",
       "      <th></th>\n",
       "      <th></th>\n",
       "    </tr>\n",
       "  </thead>\n",
       "  <tbody>\n",
       "    <tr>\n",
       "      <th>0</th>\n",
       "      <td>4819.0</td>\n",
       "      <td>0.841046</td>\n",
       "      <td>0.365671</td>\n",
       "      <td>0.0</td>\n",
       "      <td>1.0</td>\n",
       "      <td>1.0</td>\n",
       "      <td>1.0</td>\n",
       "      <td>1.0</td>\n",
       "    </tr>\n",
       "    <tr>\n",
       "      <th>1</th>\n",
       "      <td>4734.0</td>\n",
       "      <td>0.708492</td>\n",
       "      <td>0.454505</td>\n",
       "      <td>0.0</td>\n",
       "      <td>0.0</td>\n",
       "      <td>1.0</td>\n",
       "      <td>1.0</td>\n",
       "      <td>1.0</td>\n",
       "    </tr>\n",
       "  </tbody>\n",
       "</table>\n",
       "</div>"
      ],
      "text/plain": [
       "         count      mean       std  min  25%  50%  75%  max\n",
       "target                                                     \n",
       "0       4819.0  0.841046  0.365671  0.0  1.0  1.0  1.0  1.0\n",
       "1       4734.0  0.708492  0.454505  0.0  0.0  1.0  1.0  1.0"
      ]
     },
     "execution_count": 44,
     "metadata": {},
     "output_type": "execute_result"
    }
   ],
   "source": [
    "df_lemma.groupby('target').is_reddit_media_domain.describe()"
   ]
  },
  {
   "cell_type": "markdown",
   "id": "ba795dc0",
   "metadata": {},
   "source": [
    "**Interpretation** Not Hot posts were on a reddit media domain more often than Hot posts. Both subsets have a median `is_reddit_media_domain` value of TRUE but the Not Hot posts are even more heavily weighted in that direction with the lower quartile point being a value of TRUE as well.\n",
    "\n",
    "This indicates that there is opportunity on the side of *not* using a reddit media domain when it isn't convenient or necessary such as hosting videos on a different site or direct linking to the source site. A well-known complaint about reddit media domains are the video hosting."
   ]
  },
  {
   "cell_type": "markdown",
   "id": "6e5968ec",
   "metadata": {},
   "source": [
    "## Confusion Matrices"
   ]
  },
  {
   "cell_type": "code",
   "execution_count": 11,
   "id": "fac3ba5e",
   "metadata": {},
   "outputs": [
    {
     "ename": "NameError",
     "evalue": "name 'X_lemma_adj' is not defined",
     "output_type": "error",
     "traceback": [
      "\u001b[1;31m---------------------------------------------------------------------------\u001b[0m",
      "\u001b[1;31mNameError\u001b[0m                                 Traceback (most recent call last)",
      "\u001b[1;32m~\\AppData\\Local\\Temp/ipykernel_15852/2490379322.py\u001b[0m in \u001b[0;36m<module>\u001b[1;34m\u001b[0m\n\u001b[1;32m----> 1\u001b[1;33m \u001b[0mpredicted\u001b[0m \u001b[1;33m=\u001b[0m \u001b[0mcross_val_predict\u001b[0m\u001b[1;33m(\u001b[0m\u001b[0mrf\u001b[0m\u001b[1;33m,\u001b[0m \u001b[0mX_lemma_adj\u001b[0m\u001b[1;33m,\u001b[0m \u001b[0my_lemma\u001b[0m\u001b[1;33m,\u001b[0m \u001b[0mcv\u001b[0m\u001b[1;33m=\u001b[0m\u001b[1;36m5\u001b[0m\u001b[1;33m)\u001b[0m\u001b[1;33m\u001b[0m\u001b[1;33m\u001b[0m\u001b[0m\n\u001b[0m",
      "\u001b[1;31mNameError\u001b[0m: name 'X_lemma_adj' is not defined"
     ]
    }
   ],
   "source": [
    "predicted = cross_val_predict(rf, X_lemma_adj, y_lemma, cv=5)"
   ]
  },
  {
   "cell_type": "code",
   "execution_count": 46,
   "id": "3a71b7f1",
   "metadata": {
    "scrolled": true
   },
   "outputs": [
    {
     "data": {
      "image/png": "[encoded data removed]",
      "text/plain": [
       "<Figure size 720x720 with 1 Axes>"
      ]
     },
     "metadata": {
      "needs_background": "light"
     },
     "output_type": "display_data"
    }
   ],
   "source": [
    "# https://www.tutorialspoint.com/how-to-hide-the-colorbar-of-a-seaborn-heatmap\n",
    "# https://stackoverflow.com/questions/33104322/auto-adjust-font-size-in-seaborn-heatmap\n",
    "\n",
    "cf_matrix = confusion_matrix(y_lemma, predicted)\n",
    "\n",
    "group_names = ['True Neg','False Pos','False Neg','True Pos']\n",
    "\n",
    "group_counts = ['{0:0.0f}'.format(value) for value in\n",
    "                cf_matrix.flatten()]\n",
    "\n",
    "group_percentages = ['{0:.2%}'.format(value) for value in\n",
    "                     cf_matrix.flatten()/np.sum(cf_matrix)]\n",
    "\n",
    "labels = [f'{v1}\\n{v2}\\n{v3}' for v1, v2, v3 in\n",
    "          zip(group_names,group_counts,group_percentages)]\n",
    "\n",
    "labels = np.asarray(labels).reshape(2,2)\n",
    "\n",
    "\n",
    "\n",
    "\n",
    "chart = sns.heatmap(cf_matrix,\n",
    "                    annot=labels, annot_kws={\"size\": 35 / np.sqrt(len(cf_matrix))},\n",
    "                    fmt='', cmap='Blues', cbar=False,\n",
    "            xticklabels=['pred. not hot','pred. hot'],\n",
    "            yticklabels=['true not hot', 'true hot'])\n",
    "chart.set_xticklabels(chart.get_xticklabels(), rotation=0, fontsize = 20)\n",
    "chart.set_yticklabels(chart.get_yticklabels(), rotation=0, fontsize = 20)\n",
    "\n",
    "chart.set_title(\"Model Confusion Matrix\", fontsize=36)\n",
    "\n",
    "fig = plt.gcf()\n",
    "fig.set_size_inches(10,10)\n",
    "\n",
    "plt.tight_layout()\n",
    "plt.savefig('../images/confusion_matrix.png', transparent=True);"
   ]
  },
  {
   "cell_type": "code",
   "execution_count": 1,
   "id": "ec2c5732",
   "metadata": {
    "code_folding": [
     0
    ]
   },
   "outputs": [
    {
     "data": {
      "text/html": [
       "<style>\n",
       "table {float:left}\n",
       "</style>\n"
      ],
      "text/plain": [
       "<IPython.core.display.HTML object>"
      ]
     },
     "metadata": {},
     "output_type": "display_data"
    }
   ],
   "source": [
    "%%html\n",
    "<style>\n",
    "table {float:left}\n",
    "</style>"
   ]
  },
  {
   "cell_type": "markdown",
   "id": "0b4786ef",
   "metadata": {},
   "source": [
    "**The model performance on seen data:**\n",
    "\n",
    "|Metric|Score|\n",
    "|---|---|\n",
    "|Accuracy|96.64%|\n",
    "|Precision|97.98%|\n",
    "|Recall|95.18%|\n",
    "|Specificity|98.07%|\n",
    "|F1|96.56%|"
   ]
  },
  {
   "cell_type": "markdown",
   "id": "75ecb982",
   "metadata": {},
   "source": [
    "**Interpretation** An important call out from the Confusion Matrix is the False Positive Rate amount being 1.9% with 93 False Positives overall. When it comes to putting resources behind a Reddit post with the intent to get traction, this being the most minimized block of the matrix is good indication for the model's usefulness."
   ]
  },
  {
   "cell_type": "markdown",
   "id": "7dc38f26",
   "metadata": {},
   "source": [
    "## Conclusion"
   ]
  },
  {
   "cell_type": "markdown",
   "id": "ada9edd1",
   "metadata": {},
   "source": [
    "At the high level, a few easy recommendations for getting an engaging Reddit post:\n",
    "  1.  **Be Patient:**  Reddit takes the age of the post into account for Hot! Give the post around 8 hours to really rev up before making a final call on its success.\n",
    "  2.  **Aim for large subreddits:**  More eyeballs means more possible commenters. Look 2.5M subscribers or more and pay attention to the submission guidelines and the meta of the subreddit.\n",
    "  3.  **Action words:**  The percent of verbs in a title matters. Maintain a 10-12% ratio to keep things in a successful prose\n",
    "  4.  **Avoid Short Titles:**  Single words or plain emojis are not proven winners\n",
    "  5.  **Reddit Media Domains are not an absolute:**  They are convenient and useful, but not a one-size-fits-all. Select your domain with purpose."
   ]
  },
  {
   "cell_type": "markdown",
   "id": "f883c328",
   "metadata": {},
   "source": [
    "By applying the above recommendations, a post is in a better position overall to be more engaging (aka have a greater than median number of comments!). The model can be focused on specific subreddits in the future if a specific redditor-population is deemed more valuable than the average redditor. Another possible focus could be on the type of post trying to be submitted. There will be different pushes and pulls for a post that is a text blob, an image, a gif, a video, an article, etc."
   ]
  },
  {
   "cell_type": "markdown",
   "id": "0693eef9",
   "metadata": {},
   "source": [
    "The model created here could also be useful for any adjacent projects fivethirtyeight may have with regard to Reddit and its engaging posts. With the Accuracy of 96% on seen data and 72% accuracy on cross validated data, the model can be useful for flagging future posts as hot or not."
   ]
  }
 ],
 "metadata": {
  "kernelspec": {
   "display_name": "Python 3 (ipykernel)",
   "language": "python",
   "name": "python3"
  },
  "language_info": {
   "codemirror_mode": {
    "name": "ipython",
    "version": 3
   },
   "file_extension": ".py",
   "mimetype": "text/x-python",
   "name": "python",
   "nbconvert_exporter": "python",
   "pygments_lexer": "ipython3",
   "version": "3.9.7"
  }
 },
 "nbformat": 4,
 "nbformat_minor": 5
}
