{
 "cells": [
  {
   "cell_type": "code",
   "execution_count": 1,
   "id": "f3a6228b",
   "metadata": {
    "ExecuteTime": {
     "end_time": "2022-06-15T15:59:36.575324Z",
     "start_time": "2022-06-15T15:59:34.131647Z"
    },
    "code_folding": []
   },
   "outputs": [],
   "source": [
    "import pandas as pd\n",
    "import numpy as np\n",
    "\n",
    "import matplotlib.pyplot as plt\n",
    "import seaborn as sns\n",
    "\n",
    "from sklearn.preprocessing import StandardScaler\n",
    "from sklearn.model_selection import cross_val_score, GridSearchCV, cross_val_predict, StratifiedKFold\n",
    "\n",
    "from sklearn.neighbors import KNeighborsClassifier\n",
    "from sklearn.linear_model import LogisticRegression, LogisticRegressionCV\n",
    "from sklearn.tree import DecisionTreeClassifier\n",
    "from sklearn.ensemble import (RandomForestClassifier,\n",
    "                                ExtraTreesClassifier,\n",
    "                                BaggingClassifier)\n",
    "\n",
    "from sklearn.metrics import confusion_matrix, classification_report"
   ]
  },
  {
   "cell_type": "markdown",
   "id": "b801034a",
   "metadata": {},
   "source": [
    "## Import Data"
   ]
  },
  {
   "cell_type": "code",
   "execution_count": 2,
   "id": "1f9d7987",
   "metadata": {
    "ExecuteTime": {
     "end_time": "2022-06-15T15:59:38.053287Z",
     "start_time": "2022-06-15T15:59:36.575324Z"
    }
   },
   "outputs": [],
   "source": [
    "df_naut = pd.read_csv('../data/nlp_naut_data.csv')\n",
    "df_stem = pd.read_csv('../data/nlp_stem_data.csv')\n",
    "df_lemma = pd.read_csv('../data/nlp_lemma_data.csv')\n",
    "df_lem_stem = pd.read_csv('../data/nlp_lem_stem_data.csv')"
   ]
  },
  {
   "cell_type": "markdown",
   "id": "8c097cfc",
   "metadata": {},
   "source": [
    "## Preprocessing"
   ]
  },
  {
   "cell_type": "code",
   "execution_count": 3,
   "id": "ce1c5bbd",
   "metadata": {
    "ExecuteTime": {
     "end_time": "2022-06-15T15:59:38.295760Z",
     "start_time": "2022-06-15T15:59:38.053287Z"
    }
   },
   "outputs": [],
   "source": [
    "# create target column and columns we don't want in our X\n",
    "target = 'target'\n",
    "cols_to_skip = ['num_comments', 'num_comments_logscale', 'target']\n",
    "\n",
    "\n",
    "# for each df below, create a y, X, y_test, y_train, X_test, X_train\n",
    "# these train test splits are inherited from our NLP workbook\n",
    "y_naut = df_naut[target]\n",
    "y_naut_train = df_naut[df_naut.is_train==1][target]\n",
    "y_naut_test = df_naut[df_naut.is_train==0][target]\n",
    "\n",
    "X_naut = df_naut[[col for col in df_naut.columns if col not in cols_to_skip]]\n",
    "X_naut_train = X_naut[X_naut.is_train==1]\n",
    "X_naut_test = X_naut[X_naut.is_train==0]\n",
    "\n",
    "\n",
    "y_stem = df_stem[target]\n",
    "y_stem_train = df_stem[df_stem.is_train==1][target]\n",
    "y_stem_test = df_stem[df_stem.is_train==0][target]\n",
    "\n",
    "X_stem = df_stem[[col for col in df_stem.columns if col not in cols_to_skip]]\n",
    "X_stem_train = X_stem[X_stem.is_train==1]\n",
    "X_stem_test = X_stem[X_stem.is_train==0]\n",
    "\n",
    "\n",
    "y_lemma = df_lemma[target]\n",
    "y_lemma_train = df_lemma[df_lemma.is_train==1][target]\n",
    "y_lemma_test = df_lemma[df_lemma.is_train==0][target]\n",
    "\n",
    "X_lemma = df_lemma[[col for col in df_lemma.columns if col not in cols_to_skip]]\n",
    "X_lemma_train = X_lemma[X_lemma.is_train==1]\n",
    "X_lemma_test = X_lemma[X_lemma.is_train==0]\n",
    "\n",
    "\n",
    "y_lem_stem = df_lem_stem[target]\n",
    "y_lem_stem_train = df_lem_stem[df_lem_stem.is_train==1][target]\n",
    "y_lem_stem_test = df_lem_stem[df_lem_stem.is_train==0][target]\n",
    "\n",
    "X_lem_stem = df_lem_stem[[col for col in df_lem_stem.columns if col not in cols_to_skip]]\n",
    "X_lem_stem_train = X_lem_stem[X_lem_stem.is_train==1]\n",
    "X_lem_stem_test = X_lem_stem[X_lem_stem.is_train==0]"
   ]
  },
  {
   "cell_type": "code",
   "execution_count": 4,
   "id": "776f5de8",
   "metadata": {
    "ExecuteTime": {
     "end_time": "2022-06-15T15:59:38.438524Z",
     "start_time": "2022-06-15T15:59:38.299703Z"
    }
   },
   "outputs": [
    {
     "name": "stderr",
     "output_type": "stream",
     "text": [
      "C:\\Users\\Larry\\anaconda3\\lib\\site-packages\\pandas\\core\\frame.py:4906: SettingWithCopyWarning: \n",
      "A value is trying to be set on a copy of a slice from a DataFrame\n",
      "\n",
      "See the caveats in the documentation: https://pandas.pydata.org/pandas-docs/stable/user_guide/indexing.html#returning-a-view-versus-a-copy\n",
      "  return super().drop(\n"
     ]
    }
   ],
   "source": [
    "# remove is_train from all of the X's\n",
    "[i.drop('is_train', axis=1, inplace=True) for i in\\\n",
    "    [X_naut,X_naut_train,X_naut_test,X_stem,X_stem_train,X_stem_test,\n",
    "     X_lemma,X_lemma_train,X_lemma_test,X_lem_stem,X_lem_stem_train,\n",
    "     X_lem_stem_test]];"
   ]
  },
  {
   "cell_type": "code",
   "execution_count": 5,
   "id": "a8d1d14b",
   "metadata": {
    "ExecuteTime": {
     "end_time": "2022-06-15T15:59:38.884088Z",
     "start_time": "2022-06-15T15:59:38.440525Z"
    }
   },
   "outputs": [],
   "source": [
    "# initialize standard scaler\n",
    "ss = StandardScaler()\n",
    "\n",
    "# for each ss below, fit on the train portion\n",
    "# drop is_train from our X dataframe\n",
    "# transform a X_ss dataframe\n",
    "\n",
    "ss.fit(X_naut_train)\n",
    "X_naut_ss = ss.transform(X_naut)\n",
    "X_naut_train_ss = ss.transform(X_naut_train)\n",
    "X_naut_test_ss = ss.transform(X_naut_test)\n",
    "\n",
    "ss.fit(X_stem_train)\n",
    "X_stem_ss = ss.transform(X_stem)\n",
    "X_stem_train_ss = ss.transform(X_stem_train)\n",
    "X_stem_test_ss = ss.transform(X_stem_test)\n",
    "\n",
    "ss.fit(X_lemma_train)\n",
    "X_lemma_ss = ss.transform(X_lemma)\n",
    "X_lemma_train_ss = ss.transform(X_lemma_train)\n",
    "X_lemma_test_ss = ss.transform(X_lemma_test)\n",
    "\n",
    "ss.fit(X_lem_stem_train)\n",
    "X_lem_stem_ss = ss.transform(X_lem_stem)\n",
    "X_lem_stem_train_ss = ss.transform(X_lem_stem_train)\n",
    "X_lem_stem_test_ss = ss.transform(X_lem_stem_test)"
   ]
  },
  {
   "cell_type": "markdown",
   "id": "0003449d",
   "metadata": {},
   "source": [
    "**Note** Creating standard-scaled versions of the X dataframes is a critical step for our logistic regression and k-nearest neighbors models."
   ]
  },
  {
   "cell_type": "markdown",
   "id": "a225bd1e",
   "metadata": {},
   "source": [
    "## Model and Data Selection"
   ]
  },
  {
   "cell_type": "markdown",
   "id": "9e368c9e",
   "metadata": {},
   "source": [
    "To help decide which dataset to use and which models to look at, run each of the 4 datasets against 6 classification models with basic configuration."
   ]
  },
  {
   "cell_type": "code",
   "execution_count": 6,
   "id": "5e54f335",
   "metadata": {
    "ExecuteTime": {
     "end_time": "2022-06-15T15:59:38.915093Z",
     "start_time": "2022-06-15T15:59:38.886088Z"
    },
    "code_folding": []
   },
   "outputs": [],
   "source": [
    "# Create helper functions for evaluating our models\n",
    "def print_scores(scores):\n",
    "    print('Score: {:.2f} +- {:.2f}'.format(scores.mean(), 2*scores.std()), end = '     ')\n",
    "    print('min: {:.2f}, max: {:.2f}'.format(min(scores),max(scores)))\n",
    "\n",
    "def master_comparison_list(X, X_ss, y):\n",
    "    \n",
    "    logit = LogisticRegression(n_jobs = -1,)\n",
    "    scores = cross_val_score(logit, X_ss, y)\n",
    "    print('Logit', end = '            ')\n",
    "    print_scores(scores)\n",
    "    \n",
    "    knn = KNeighborsClassifier(n_jobs = -1)\n",
    "    scores = cross_val_score(knn, X_ss, y)\n",
    "    print('\\nKNN', end = '              ')\n",
    "    print_scores(scores)\n",
    "    \n",
    "    dt = DecisionTreeClassifier()\n",
    "    scores = cross_val_score(dt, X, y)\n",
    "    print('\\nDecision Tree', end = '    ')\n",
    "    print_scores(scores)\n",
    "   \n",
    "    bdt = BaggingClassifier(dt,\n",
    "                            n_jobs = -1)\n",
    "    scores = cross_val_score(bdt, X, y)\n",
    "    print('\\nBagging', end = '          ')\n",
    "    print_scores(scores)\n",
    "\n",
    "    rf = RandomForestClassifier(n_jobs = -1)\n",
    "    scores = cross_val_score(rf, X, y)\n",
    "    print('\\nRandom Forest', end = '    ')\n",
    "    print_scores(scores)\n",
    "    \n",
    "    et = ExtraTreesClassifier(n_jobs = -1)\n",
    "    scores = cross_val_score(et, X, y)\n",
    "    print('\\nExtra Trees', end = '      ')\n",
    "    print_scores(scores)"
   ]
  },
  {
   "cell_type": "code",
   "execution_count": 7,
   "id": "3b67025b",
   "metadata": {
    "ExecuteTime": {
     "end_time": "2022-06-15T16:00:43.705539Z",
     "start_time": "2022-06-15T15:59:38.917089Z"
    }
   },
   "outputs": [
    {
     "name": "stdout",
     "output_type": "stream",
     "text": [
      "Logit            Score: 0.68 +- 0.02     min: 0.67, max: 0.69\n",
      "\n",
      "KNN              Score: 0.58 +- 0.03     min: 0.56, max: 0.61\n",
      "\n",
      "Decision Tree    Score: 0.63 +- 0.02     min: 0.62, max: 0.65\n",
      "\n",
      "Bagging          Score: 0.68 +- 0.03     min: 0.66, max: 0.70\n",
      "\n",
      "Random Forest    Score: 0.70 +- 0.02     min: 0.69, max: 0.72\n",
      "\n",
      "Extra Trees      Score: 0.67 +- 0.03     min: 0.66, max: 0.70\n"
     ]
    }
   ],
   "source": [
    "master_comparison_list(X_naut, X_naut_ss, y_naut)"
   ]
  },
  {
   "cell_type": "code",
   "execution_count": 8,
   "id": "07eb7361",
   "metadata": {
    "ExecuteTime": {
     "end_time": "2022-06-15T16:01:36.046853Z",
     "start_time": "2022-06-15T16:00:43.708540Z"
    }
   },
   "outputs": [
    {
     "name": "stdout",
     "output_type": "stream",
     "text": [
      "Logit            Score: 0.68 +- 0.02     min: 0.67, max: 0.70\n",
      "\n",
      "KNN              Score: 0.57 +- 0.03     min: 0.55, max: 0.59\n",
      "\n",
      "Decision Tree    Score: 0.63 +- 0.02     min: 0.61, max: 0.65\n",
      "\n",
      "Bagging          Score: 0.68 +- 0.01     min: 0.68, max: 0.69\n",
      "\n",
      "Random Forest    Score: 0.70 +- 0.03     min: 0.68, max: 0.72\n",
      "\n",
      "Extra Trees      Score: 0.68 +- 0.03     min: 0.66, max: 0.71\n"
     ]
    }
   ],
   "source": [
    "master_comparison_list(X_stem, X_stem_ss, y_stem)"
   ]
  },
  {
   "cell_type": "code",
   "execution_count": 9,
   "id": "4a83a3ad",
   "metadata": {
    "ExecuteTime": {
     "end_time": "2022-06-15T16:02:25.306841Z",
     "start_time": "2022-06-15T16:01:36.048854Z"
    }
   },
   "outputs": [
    {
     "name": "stdout",
     "output_type": "stream",
     "text": [
      "Logit            Score: 0.68 +- 0.02     min: 0.67, max: 0.70\n",
      "\n",
      "KNN              Score: 0.57 +- 0.03     min: 0.56, max: 0.59\n",
      "\n",
      "Decision Tree    Score: 0.63 +- 0.01     min: 0.62, max: 0.64\n",
      "\n",
      "Bagging          Score: 0.67 +- 0.03     min: 0.66, max: 0.70\n",
      "\n",
      "Random Forest    Score: 0.70 +- 0.02     min: 0.69, max: 0.72\n",
      "\n",
      "Extra Trees      Score: 0.67 +- 0.04     min: 0.65, max: 0.70\n"
     ]
    }
   ],
   "source": [
    "master_comparison_list(X_lemma, X_lemma_ss, y_lemma)"
   ]
  },
  {
   "cell_type": "code",
   "execution_count": 10,
   "id": "17d0681f",
   "metadata": {
    "ExecuteTime": {
     "end_time": "2022-06-15T16:03:18.695087Z",
     "start_time": "2022-06-15T16:02:25.312865Z"
    }
   },
   "outputs": [
    {
     "name": "stdout",
     "output_type": "stream",
     "text": [
      "Logit            Score: 0.68 +- 0.02     min: 0.67, max: 0.70\n",
      "\n",
      "KNN              Score: 0.57 +- 0.02     min: 0.56, max: 0.59\n",
      "\n",
      "Decision Tree    Score: 0.63 +- 0.01     min: 0.62, max: 0.65\n",
      "\n",
      "Bagging          Score: 0.69 +- 0.02     min: 0.67, max: 0.70\n",
      "\n",
      "Random Forest    Score: 0.70 +- 0.03     min: 0.68, max: 0.72\n",
      "\n",
      "Extra Trees      Score: 0.68 +- 0.04     min: 0.66, max: 0.71\n"
     ]
    }
   ],
   "source": [
    "master_comparison_list(X_lem_stem, X_lem_stem_ss, y_lem_stem)"
   ]
  },
  {
   "cell_type": "markdown",
   "id": "6e378623",
   "metadata": {},
   "source": [
    "The above scorings indicate that under default configuration and regardless of dataframe:\n",
    "  *  KNN performs the worst\n",
    "  *  Logistic Regression (Logit) is the 2nd or 3rd most accurate model\n",
    "  *  Random Forest outperfoms Extra Trees, Bagging, and Decision Trees\n",
    "\n",
    "Based on the above, **Random Forest** and **Logit** will be further explored. Logit is selected above the models it tied with because of its better interpretability of coefficients."
   ]
  },
  {
   "cell_type": "markdown",
   "id": "62695c9e",
   "metadata": {},
   "source": [
    "The above scorings also indicate that under default configuration:\n",
    "  *  All dataframes score very close to one another\n",
    "  *  All 4 dataframes score the same for Logit\n",
    "  *  The lemma dataframe slightly performs with less variability for Random Forest\n",
    "\n",
    "Based on this, **lemma** dataframe will be considered during further exploration. Another advantage is that it is easier to understand the type of words after lemmatization than it is after stemming."
   ]
  },
  {
   "cell_type": "markdown",
   "id": "3439ec24",
   "metadata": {},
   "source": [
    "## Modelling"
   ]
  },
  {
   "cell_type": "markdown",
   "id": "9649f507",
   "metadata": {},
   "source": [
    "### Baseline"
   ]
  },
  {
   "cell_type": "code",
   "execution_count": 11,
   "id": "9622852d",
   "metadata": {
    "ExecuteTime": {
     "end_time": "2022-06-15T16:03:18.726087Z",
     "start_time": "2022-06-15T16:03:18.699088Z"
    }
   },
   "outputs": [
    {
     "data": {
      "text/plain": [
       "0    0.504554\n",
       "1    0.495446\n",
       "Name: target, dtype: float64"
      ]
     },
     "execution_count": 11,
     "metadata": {},
     "output_type": "execute_result"
    }
   ],
   "source": [
    "df_lemma.target.value_counts(normalize=True)"
   ]
  },
  {
   "cell_type": "markdown",
   "id": "9dc9e605",
   "metadata": {},
   "source": [
    "**Observation**\n",
    "The baseline for our model will be 50.45%. Given our scores in the above section, the data discovered during EDA and NLP should be sufficient to begin to answer the question."
   ]
  },
  {
   "cell_type": "markdown",
   "id": "e1c00783",
   "metadata": {},
   "source": [
    "### Logit Variable Selection via Lasso"
   ]
  },
  {
   "cell_type": "markdown",
   "id": "94541f9e",
   "metadata": {},
   "source": [
    "In this phase, fit Logistic Regression CV using a Lasso penalty to find optimal features"
   ]
  },
  {
   "cell_type": "code",
   "execution_count": 12,
   "id": "d7f938f2",
   "metadata": {
    "ExecuteTime": {
     "end_time": "2022-06-15T16:03:27.448497Z",
     "start_time": "2022-06-15T16:03:18.731088Z"
    }
   },
   "outputs": [
    {
     "data": {
      "text/plain": [
       "LogisticRegressionCV(n_jobs=-1, penalty='l1', random_state=21,\n",
       "                     solver='liblinear')"
      ]
     },
     "execution_count": 12,
     "metadata": {},
     "output_type": "execute_result"
    }
   ],
   "source": [
    "# initialize and fit logit CV on our train data\n",
    "logit_cv = LogisticRegressionCV(penalty='l1',\n",
    "                                solver = 'liblinear',\n",
    "                                n_jobs = -1,\n",
    "                                random_state=21)\n",
    "\n",
    "logit_cv.fit(X_lemma_train_ss, y_lemma_train)"
   ]
  },
  {
   "cell_type": "code",
   "execution_count": 13,
   "id": "6f7db533",
   "metadata": {
    "ExecuteTime": {
     "end_time": "2022-06-15T16:03:27.478498Z",
     "start_time": "2022-06-15T16:03:27.451497Z"
    }
   },
   "outputs": [
    {
     "name": "stdout",
     "output_type": "stream",
     "text": [
      "Best C:  0.046415888336127774\n",
      "Score:  0.6840121453250968\n"
     ]
    }
   ],
   "source": [
    "print(\"Best C: \", logit_cv.C_[0])\n",
    "print(\"Score: \",logit_cv.score(X_lemma_ss, y_lemma))"
   ]
  },
  {
   "cell_type": "markdown",
   "id": "48104221",
   "metadata": {},
   "source": [
    "The Logistic Regression CV identifies the best C to use in our logit as 0.0464. Using this value, it achieved an accuracy of 68.40% ... fit that below to find optimal features."
   ]
  },
  {
   "cell_type": "code",
   "execution_count": 14,
   "id": "0a5a250c",
   "metadata": {
    "ExecuteTime": {
     "end_time": "2022-06-15T16:03:27.570507Z",
     "start_time": "2022-06-15T16:03:27.482498Z"
    }
   },
   "outputs": [
    {
     "data": {
      "text/plain": [
       "LogisticRegression(C=0.046415888336127774, penalty='l1', solver='liblinear')"
      ]
     },
     "execution_count": 14,
     "metadata": {},
     "output_type": "execute_result"
    }
   ],
   "source": [
    "# fit a logistic regression with the best C identified above\n",
    "logit = LogisticRegression(penalty='l1',\n",
    "                           solver = 'liblinear',\n",
    "                           C = logit_cv.C_[0])\n",
    "\n",
    "logit.fit(X_lemma_train_ss, y_lemma_train)"
   ]
  },
  {
   "cell_type": "code",
   "execution_count": 15,
   "id": "e2d4bb82",
   "metadata": {
    "ExecuteTime": {
     "end_time": "2022-06-15T16:03:27.586496Z",
     "start_time": "2022-06-15T16:03:27.572496Z"
    }
   },
   "outputs": [
    {
     "data": {
      "text/plain": [
       "87"
      ]
     },
     "execution_count": 15,
     "metadata": {},
     "output_type": "execute_result"
    }
   ],
   "source": [
    "# Get columns from lasso feature selection, coef will be != 0 if it is still relevant\n",
    "final_columns_lasso = [col for col, coef in zip(X_lemma.columns, logit.coef_[0]) if coef]\n",
    "len(final_columns_lasso)"
   ]
  },
  {
   "cell_type": "markdown",
   "id": "70c144b3",
   "metadata": {},
   "source": [
    "**Observation** We have gone from 240 variables down to 87."
   ]
  },
  {
   "cell_type": "code",
   "execution_count": 16,
   "id": "36b8619b",
   "metadata": {
    "ExecuteTime": {
     "end_time": "2022-06-15T16:03:33.302567Z",
     "start_time": "2022-06-15T16:03:27.589497Z"
    }
   },
   "outputs": [
    {
     "name": "stdout",
     "output_type": "stream",
     "text": [
      "Score: 0.68 +- 0.01     min: 0.68, max: 0.69\n"
     ]
    }
   ],
   "source": [
    "# instantiate logistic regression with our identified final columns\n",
    "logit = LogisticRegression(n_jobs=-1)\n",
    "\n",
    "scores = cross_val_score(logit, pd.DataFrame(X_lemma_ss, columns = X_lemma.columns)[final_columns_lasso], y_lemma)\n",
    "print_scores(scores)"
   ]
  },
  {
   "cell_type": "markdown",
   "id": "40e86aef",
   "metadata": {},
   "source": [
    "**Observation** Recall that our original Logit score before LassoCV was<br><br>\n",
    "Score: 0.68 +- 0.02     min: 0.67, max: 0.70<br><br>\n",
    "No movement"
   ]
  },
  {
   "cell_type": "code",
   "execution_count": 17,
   "id": "a49b2854",
   "metadata": {
    "ExecuteTime": {
     "end_time": "2022-06-15T16:03:34.069879Z",
     "start_time": "2022-06-15T16:03:33.304565Z"
    }
   },
   "outputs": [
    {
     "data": {
      "text/plain": [
       "LogisticRegression(n_jobs=-1)"
      ]
     },
     "execution_count": 17,
     "metadata": {},
     "output_type": "execute_result"
    }
   ],
   "source": [
    "# fit logistic regression to get coefficients for interpretation\n",
    "logit.fit(pd.DataFrame(X_lemma_train_ss, columns = X_lemma.columns)[final_columns_lasso], y_lemma_train)"
   ]
  },
  {
   "cell_type": "code",
   "execution_count": 18,
   "id": "dcf539e2",
   "metadata": {
    "ExecuteTime": {
     "end_time": "2022-06-15T16:03:34.100877Z",
     "start_time": "2022-06-15T16:03:34.076880Z"
    }
   },
   "outputs": [],
   "source": [
    "coef_list = pd.Series(logit.coef_[0],\n",
    "                      index = pd.DataFrame(X_lemma_train_ss, columns = X_lemma.columns)[final_columns_lasso].columns)"
   ]
  },
  {
   "cell_type": "code",
   "execution_count": 19,
   "id": "ab56144e",
   "metadata": {
    "ExecuteTime": {
     "end_time": "2022-06-15T16:03:34.491875Z",
     "start_time": "2022-06-15T16:03:34.104876Z"
    }
   },
   "outputs": [
    {
     "data": {
      "image/png": "[encoded data removed]",
      "text/plain": [
       "<Figure size 720x504 with 1 Axes>"
      ]
     },
     "metadata": {
      "needs_background": "light"
     },
     "output_type": "display_data"
    }
   ],
   "source": [
    "# look at 10 Most Positive Coefs\n",
    "my_series = coef_list.sort_values(ascending=False)[:10].sort_values()\n",
    "\n",
    "fig, ax = plt.subplots(1,1,figsize = (10,7))\n",
    "ax = my_series.plot(kind='barh', title = '10 Most Positive Coefs')\n",
    "ax.set_xlabel('Coefficient');"
   ]
  },
  {
   "cell_type": "code",
   "execution_count": 20,
   "id": "4524a37b",
   "metadata": {
    "ExecuteTime": {
     "end_time": "2022-06-15T16:03:34.771910Z",
     "start_time": "2022-06-15T16:03:34.494875Z"
    }
   },
   "outputs": [
    {
     "data": {
      "image/png": "[encoded data removed]",
      "text/plain": [
       "<Figure size 720x504 with 1 Axes>"
      ]
     },
     "metadata": {
      "needs_background": "light"
     },
     "output_type": "display_data"
    }
   ],
   "source": [
    "# look at 10 Most Negative Coefs\n",
    "my_series = coef_list.sort_values()[:10]\n",
    "\n",
    "fig, ax = plt.subplots(1,1,figsize = (10,7))\n",
    "ax = my_series.plot(kind='barh', title = '10 Most Negative Coefs')\n",
    "ax.set_xlabel('Coefficient');"
   ]
  },
  {
   "cell_type": "markdown",
   "id": "d8e32620",
   "metadata": {},
   "source": [
    "**Observation** The presence of words like `russian`, `video`, and `return` are valid recommendations from this model. Avoiding words like `eye` and `sleep` are also valid recommendations.\n",
    "\n",
    "However, due to the nature our TF-IDF vectorization of the corpus, the IDF of these words would need to be calculated in order to provide an interpretation that is more actionable than \"use these words\" or \"don't use these words\"."
   ]
  },
  {
   "cell_type": "markdown",
   "id": "7056807b",
   "metadata": {},
   "source": [
    "### Random Forest Modeling via GridSearch\n",
    "In this phase, fit a GridSearchCV to find optimal parameters for our random forest"
   ]
  },
  {
   "cell_type": "code",
   "execution_count": 21,
   "id": "1ce9acf3",
   "metadata": {
    "ExecuteTime": {
     "end_time": "2022-06-15T16:03:34.786875Z",
     "start_time": "2022-06-15T16:03:34.774875Z"
    }
   },
   "outputs": [],
   "source": [
    "# initialize the params\n",
    "\n",
    "rf_params = {\n",
    "    # we want to see a range of n_estimators from the default 100 to increased\n",
    "    # values of 250 and 500\n",
    "    'n_estimators': [100,250,500],\n",
    "    \n",
    "    # Playing with max depth away from the default of None\n",
    "    'max_depth': [5,10,None],\n",
    "    \n",
    "    # Playing with min_samples_split from the default of 2\n",
    "    'min_samples_split': [2,5,10]\n",
    "}"
   ]
  },
  {
   "cell_type": "code",
   "execution_count": 22,
   "id": "ec33aeb3",
   "metadata": {
    "ExecuteTime": {
     "end_time": "2022-06-15T16:05:26.751077Z",
     "start_time": "2022-06-15T16:03:34.788875Z"
    }
   },
   "outputs": [
    {
     "name": "stdout",
     "output_type": "stream",
     "text": [
      "Fitting 5 folds for each of 27 candidates, totalling 135 fits\n"
     ]
    },
    {
     "data": {
      "text/plain": [
       "GridSearchCV(cv=5, estimator=RandomForestClassifier(n_jobs=-1),\n",
       "             param_grid={'max_depth': [5, 10, None],\n",
       "                         'min_samples_split': [2, 5, 10],\n",
       "                         'n_estimators': [100, 250, 500]},\n",
       "             verbose=1)"
      ]
     },
     "execution_count": 22,
     "metadata": {},
     "output_type": "execute_result"
    }
   ],
   "source": [
    "# intialize the gridsearch\n",
    "rf_gridsearch=GridSearchCV(RandomForestClassifier(n_jobs = -1),\n",
    "              rf_params,\n",
    "              cv = 5,\n",
    "              verbose = 1)\n",
    "\n",
    "# fit the gridsearch\n",
    "rf_gridsearch.fit(X_lemma_train,y_lemma_train)"
   ]
  },
  {
   "cell_type": "code",
   "execution_count": 23,
   "id": "d9678259",
   "metadata": {
    "ExecuteTime": {
     "end_time": "2022-06-15T16:05:26.767082Z",
     "start_time": "2022-06-15T16:05:26.753077Z"
    }
   },
   "outputs": [
    {
     "data": {
      "text/plain": [
       "0.6917884433994504"
      ]
     },
     "execution_count": 23,
     "metadata": {},
     "output_type": "execute_result"
    }
   ],
   "source": [
    "rf_gridsearch.best_score_"
   ]
  },
  {
   "cell_type": "code",
   "execution_count": 24,
   "id": "471b515e",
   "metadata": {
    "ExecuteTime": {
     "end_time": "2022-06-15T16:05:26.798078Z",
     "start_time": "2022-06-15T16:05:26.769077Z"
    }
   },
   "outputs": [
    {
     "data": {
      "text/plain": [
       "{'max_depth': None, 'min_samples_split': 10, 'n_estimators': 100}"
      ]
     },
     "execution_count": 24,
     "metadata": {},
     "output_type": "execute_result"
    }
   ],
   "source": [
    "rf_gridsearch.best_params_"
   ]
  },
  {
   "cell_type": "markdown",
   "id": "6fb67135",
   "metadata": {},
   "source": [
    "Gridsearch has identified the best parameters for our Random Forest as using the default value for `max_depth`, the middle choice for `min_samples_split`, and the highest value for `n_estimators` in our param grid."
   ]
  },
  {
   "cell_type": "code",
   "execution_count": 25,
   "id": "efa4c125",
   "metadata": {
    "ExecuteTime": {
     "end_time": "2022-06-15T16:05:47.270513Z",
     "start_time": "2022-06-15T16:05:26.802078Z"
    }
   },
   "outputs": [
    {
     "name": "stdout",
     "output_type": "stream",
     "text": [
      "Score: 0.71 +- 0.03     min: 0.69, max: 0.73\n"
     ]
    }
   ],
   "source": [
    "# initialize a random forest with our updated params\n",
    "rf = RandomForestClassifier(n_estimators = 500,\n",
    "                            max_depth = None,\n",
    "                            min_samples_split = 5,\n",
    "                            n_jobs = -1,\n",
    "                            random_state = 21)\n",
    "\n",
    "# score our rf\n",
    "scores = cross_val_score(rf, X_lemma, y_lemma)\n",
    "print_scores(scores)"
   ]
  },
  {
   "cell_type": "markdown",
   "id": "3fbde2c8",
   "metadata": {},
   "source": [
    "**Observation** Recall that our original Random Forest score before GridSearchCV was<br><br>\n",
    "Score: 0.70 +- 0.02     min: 0.69, max: 0.72<br><br>\n",
    "There has been some slight movement here"
   ]
  },
  {
   "cell_type": "code",
   "execution_count": 26,
   "id": "57a718bf",
   "metadata": {
    "ExecuteTime": {
     "end_time": "2022-06-15T16:05:49.467427Z",
     "start_time": "2022-06-15T16:05:47.273385Z"
    }
   },
   "outputs": [
    {
     "data": {
      "image/png": "[encoded data removed]",
      "text/plain": [
       "<Figure size 720x504 with 1 Axes>"
      ]
     },
     "metadata": {
      "needs_background": "light"
     },
     "output_type": "display_data"
    }
   ],
   "source": [
    "# fit rf to look at the most important features\n",
    "rf.fit(X_lemma_train, y_lemma_train)\n",
    "\n",
    "# look at the top 20 most important features\n",
    "my_series = pd.Series(rf.feature_importances_, index = X_lemma.columns)\\\n",
    "    .sort_values(ascending = False)[:20].sort_values()\n",
    "\n",
    "fig, ax = plt.subplots(1,1,figsize = (10,7))\n",
    "ax = my_series.plot(kind='barh', title = '20 Most Important Features')\n",
    "ax.set_xlabel('Feature Importance (%)');"
   ]
  },
  {
   "cell_type": "markdown",
   "id": "7f9f76cc",
   "metadata": {},
   "source": [
    "**Observation** The percent values appear to be above their count amount counterpart. Remove them."
   ]
  },
  {
   "cell_type": "code",
   "execution_count": 27,
   "id": "fa442407",
   "metadata": {
    "ExecuteTime": {
     "end_time": "2022-06-15T16:05:49.515406Z",
     "start_time": "2022-06-15T16:05:49.470406Z"
    }
   },
   "outputs": [],
   "source": [
    "cols_to_drop = ['ADJ', 'ADP', 'ADV', 'AUX', 'CCONJ', 'DET'\n",
    "                , 'INTJ', 'NOUN', 'NUM', 'PART', 'PRON'\n",
    "                , 'PROPN', 'PUNCT', 'SCONJ', 'VERB']\n",
    "\n",
    "X_lemma_adj = X_lemma.drop(cols_to_drop, axis=1)\n",
    "X_lemma_adj_train = X_lemma_train.drop(cols_to_drop, axis=1)\n",
    "X_lemma_adj_test = X_lemma_test.drop(cols_to_drop, axis=1)"
   ]
  },
  {
   "cell_type": "code",
   "execution_count": 28,
   "id": "2b952ad3",
   "metadata": {
    "ExecuteTime": {
     "end_time": "2022-06-15T16:07:37.858093Z",
     "start_time": "2022-06-15T16:05:49.524438Z"
    }
   },
   "outputs": [
    {
     "name": "stdout",
     "output_type": "stream",
     "text": [
      "Fitting 5 folds for each of 27 candidates, totalling 135 fits\n"
     ]
    },
    {
     "data": {
      "text/plain": [
       "GridSearchCV(cv=5, estimator=RandomForestClassifier(n_jobs=-1),\n",
       "             param_grid={'max_depth': [5, 10, None],\n",
       "                         'min_samples_split': [2, 5, 10],\n",
       "                         'n_estimators': [100, 250, 500]},\n",
       "             verbose=1)"
      ]
     },
     "execution_count": 28,
     "metadata": {},
     "output_type": "execute_result"
    }
   ],
   "source": [
    "# rerun our grid search\n",
    "rf_gridsearch.fit(X_lemma_adj_train,y_lemma_train)"
   ]
  },
  {
   "cell_type": "code",
   "execution_count": 29,
   "id": "eba2c9a3",
   "metadata": {
    "ExecuteTime": {
     "end_time": "2022-06-15T16:07:37.874098Z",
     "start_time": "2022-06-15T16:07:37.860092Z"
    }
   },
   "outputs": [
    {
     "data": {
      "text/plain": [
       "0.6964950172925238"
      ]
     },
     "execution_count": 29,
     "metadata": {},
     "output_type": "execute_result"
    }
   ],
   "source": [
    "rf_gridsearch.best_score_"
   ]
  },
  {
   "cell_type": "code",
   "execution_count": 30,
   "id": "2fce0094",
   "metadata": {
    "ExecuteTime": {
     "end_time": "2022-06-15T16:07:37.890094Z",
     "start_time": "2022-06-15T16:07:37.877128Z"
    }
   },
   "outputs": [
    {
     "data": {
      "text/plain": [
       "{'max_depth': None, 'min_samples_split': 2, 'n_estimators': 500}"
      ]
     },
     "execution_count": 30,
     "metadata": {},
     "output_type": "execute_result"
    }
   ],
   "source": [
    "rf_gridsearch.best_params_"
   ]
  },
  {
   "cell_type": "markdown",
   "id": "61a2ad75",
   "metadata": {},
   "source": [
    "Only one change of `min_samples_split` to value 10."
   ]
  },
  {
   "cell_type": "code",
   "execution_count": 31,
   "id": "6b59c797",
   "metadata": {
    "ExecuteTime": {
     "end_time": "2022-06-15T16:07:57.919966Z",
     "start_time": "2022-06-15T16:07:37.894094Z"
    }
   },
   "outputs": [
    {
     "name": "stdout",
     "output_type": "stream",
     "text": [
      "Score: 0.71 +- 0.02     min: 0.70, max: 0.74\n"
     ]
    }
   ],
   "source": [
    "# initialize a random forest with our updated params\n",
    "rf = RandomForestClassifier(n_estimators = 500,\n",
    "                            max_depth = None,\n",
    "                            min_samples_split = 10,\n",
    "                            n_jobs = -1,\n",
    "                            random_state = 21)\n",
    "\n",
    "# fit our rf\n",
    "scores = cross_val_score(rf, X_lemma_adj, y_lemma)\n",
    "print_scores(scores)"
   ]
  },
  {
   "cell_type": "markdown",
   "id": "f59c28d1",
   "metadata": {},
   "source": [
    "**Observation** We have improved our model's variability! "
   ]
  },
  {
   "cell_type": "code",
   "execution_count": 32,
   "id": "6d66f901",
   "metadata": {
    "ExecuteTime": {
     "end_time": "2022-06-15T16:08:00.343967Z",
     "start_time": "2022-06-15T16:07:57.922965Z"
    }
   },
   "outputs": [
    {
     "data": {
      "image/png": "[encoded data removed]",
      "text/plain": [
       "<Figure size 720x504 with 1 Axes>"
      ]
     },
     "metadata": {
      "needs_background": "light"
     },
     "output_type": "display_data"
    }
   ],
   "source": [
    "# fit rf to look at the most important features\n",
    "rf.fit(X_lemma_adj_train, y_lemma_train)\n",
    "\n",
    "# look at the top 20 most important features\n",
    "my_series = pd.Series(rf.feature_importances_, index = X_lemma_adj.columns)\\\n",
    "    .sort_values(ascending = False)[:20].sort_values()\n",
    "\n",
    "fig, ax = plt.subplots(1,1,figsize = (10,7))\n",
    "ax = my_series.plot(kind='barh', title = '20 Most Important Features')\n",
    "ax.set_xlabel('Feature Importance (%)');"
   ]
  },
  {
   "cell_type": "markdown",
   "id": "0180ea3d",
   "metadata": {},
   "source": [
    "**Observation** There do not appear to be any redundant features here"
   ]
  },
  {
   "cell_type": "markdown",
   "id": "9e03748f",
   "metadata": {},
   "source": [
    "### Production Model Selection"
   ]
  },
  {
   "cell_type": "markdown",
   "id": "afdd76d7",
   "metadata": {},
   "source": [
    "After performing feature selection optimization on both `logit` and `random forest`, the final scores of both were:\n",
    "  *  0.68 +- 0.02     min: 0.67, max: 0.70\n",
    "  *  0.71 +- 0.02     min: 0.69, max: 0.73\n",
    "  \n",
    "The better scores are the first reason why **random forest** is our production model"
   ]
  },
  {
   "cell_type": "markdown",
   "id": "023bb09a",
   "metadata": {},
   "source": [
    "Additionally, interpretation of the coefficients, which is normally a positive attribute of logistic regressions, are not as straightforward due to the TF-IDF values that show up in the highest and lowest coefficient lists.\n",
    "\n",
    "Random forests do lack in the interpretability department and will only be able to make broad recommendations of which features are important; but, with logit not being much more interpretable in this situation, the edge still goes to random forests."
   ]
  },
  {
   "cell_type": "markdown",
   "id": "2c312f48",
   "metadata": {},
   "source": [
    "Lastly, random forests are excellent at dealing with outliers which were not aggressively tackled during EDA because of the observed nature of Reddit in general: a site that has large and small communities, long discussions and short discussions, all to extremes that required us to analyze variables using the log scale of num_comments."
   ]
  },
  {
   "cell_type": "markdown",
   "id": "1f30f7f2",
   "metadata": {},
   "source": [
    "### Investigate High Feature Importance Attributes"
   ]
  },
  {
   "cell_type": "markdown",
   "id": "48e34e9b",
   "metadata": {},
   "source": [
    "**Note** Random forests are a classification model that utilizes an assortment of Decision Tree Classifiers. Rather than there being one Decision Tree, there are, in our case, 500. Each of these takes a random selection of data from our train dataset as well as a random assortment of variables.\n",
    "\n",
    "The result is an aggregated system of feature importances that allow the model to predict test data. However, since no one Decision Tree is the same in the Random Forest of 500, we are restricted to only feature importances rather than coefficients like in Linear Regression.\n",
    "\n",
    "In this section, the distribution of high-importance features, as identified by our random forest model, will be examined against our target variable. These characteristics will help us provide recommendations on which direction to go on each feature if we want to improve the chances of an engaging Reddit post!"
   ]
  },
  {
   "cell_type": "markdown",
   "id": "5806bf7a",
   "metadata": {},
   "source": [
    "#### Examine `subreddit_subscribers`"
   ]
  },
  {
   "cell_type": "code",
   "execution_count": 33,
   "id": "e482d1ac",
   "metadata": {
    "ExecuteTime": {
     "end_time": "2022-06-15T16:08:00.389966Z",
     "start_time": "2022-06-15T16:08:00.346967Z"
    }
   },
   "outputs": [
    {
     "data": {
      "text/html": [
       "<div>\n",
       "<style scoped>\n",
       "    .dataframe tbody tr th:only-of-type {\n",
       "        vertical-align: middle;\n",
       "    }\n",
       "\n",
       "    .dataframe tbody tr th {\n",
       "        vertical-align: top;\n",
       "    }\n",
       "\n",
       "    .dataframe thead th {\n",
       "        text-align: right;\n",
       "    }\n",
       "</style>\n",
       "<table border=\"1\" class=\"dataframe\">\n",
       "  <thead>\n",
       "    <tr style=\"text-align: right;\">\n",
       "      <th></th>\n",
       "      <th>count</th>\n",
       "      <th>mean</th>\n",
       "      <th>std</th>\n",
       "      <th>min</th>\n",
       "      <th>25%</th>\n",
       "      <th>50%</th>\n",
       "      <th>75%</th>\n",
       "      <th>max</th>\n",
       "    </tr>\n",
       "    <tr>\n",
       "      <th>target</th>\n",
       "      <th></th>\n",
       "      <th></th>\n",
       "      <th></th>\n",
       "      <th></th>\n",
       "      <th></th>\n",
       "      <th></th>\n",
       "      <th></th>\n",
       "      <th></th>\n",
       "    </tr>\n",
       "  </thead>\n",
       "  <tbody>\n",
       "    <tr>\n",
       "      <th>0</th>\n",
       "      <td>4819.0</td>\n",
       "      <td>9.075587e+05</td>\n",
       "      <td>2.784150e+06</td>\n",
       "      <td>5381.0</td>\n",
       "      <td>105358.5</td>\n",
       "      <td>248789.0</td>\n",
       "      <td>657184.0</td>\n",
       "      <td>40814502.0</td>\n",
       "    </tr>\n",
       "    <tr>\n",
       "      <th>1</th>\n",
       "      <td>4732.0</td>\n",
       "      <td>3.256703e+06</td>\n",
       "      <td>6.647783e+06</td>\n",
       "      <td>8339.0</td>\n",
       "      <td>296483.0</td>\n",
       "      <td>808685.5</td>\n",
       "      <td>2413006.5</td>\n",
       "      <td>40854908.0</td>\n",
       "    </tr>\n",
       "  </tbody>\n",
       "</table>\n",
       "</div>"
      ],
      "text/plain": [
       "         count          mean           std     min       25%       50%  \\\n",
       "target                                                                   \n",
       "0       4819.0  9.075587e+05  2.784150e+06  5381.0  105358.5  248789.0   \n",
       "1       4732.0  3.256703e+06  6.647783e+06  8339.0  296483.0  808685.5   \n",
       "\n",
       "              75%         max  \n",
       "target                         \n",
       "0        657184.0  40814502.0  \n",
       "1       2413006.5  40854908.0  "
      ]
     },
     "execution_count": 33,
     "metadata": {},
     "output_type": "execute_result"
    }
   ],
   "source": [
    "# examine distributions of subreddit subscribers by target value\n",
    "df_lemma.groupby('target').subreddit_subscribers.describe()"
   ]
  },
  {
   "cell_type": "code",
   "execution_count": 34,
   "id": "7958f8a8",
   "metadata": {
    "ExecuteTime": {
     "end_time": "2022-06-15T16:08:00.892052Z",
     "start_time": "2022-06-15T16:08:00.393965Z"
    }
   },
   "outputs": [
    {
     "data": {
      "image/png": "[encoded data removed]",
      "text/plain": [
       "<Figure size 720x360 with 1 Axes>"
      ]
     },
     "metadata": {
      "needs_background": "light"
     },
     "output_type": "display_data"
    }
   ],
   "source": [
    "box = pd.DataFrame([df_lemma[df_lemma.target==0].subreddit_subscribers,\n",
    "                    df_lemma[df_lemma.target==1].subreddit_subscribers],\n",
    "                   index = ['not hot', 'hot']) \n",
    "box = box.T.boxplot(vert=False,)\n",
    "box.set_title(\"Subreddit Subscribers Distr.\")\n",
    "box.set_xlabel(\"# Subscribers\")\n",
    "fig = plt.gcf()\n",
    "fig.set_size_inches(10,5);"
   ]
  },
  {
   "cell_type": "markdown",
   "id": "0da94e7a",
   "metadata": {},
   "source": [
    "**Interpretation** Both subsets are right skewed with max values of 40M, but the value of the upper quartile for Not Hot being only 657K indicates that a significant amount of Not Hot posts are in these types of small subreddits (compare this to Hot's upper quartile of 2.4M).\n",
    "\n",
    "This indicates that posts should at least be 2.4M in subscriber size to increase chances of post success. "
   ]
  },
  {
   "cell_type": "markdown",
   "id": "0f0506b5",
   "metadata": {},
   "source": [
    "#### Examine `post_age_min`"
   ]
  },
  {
   "cell_type": "code",
   "execution_count": 35,
   "id": "9e9ed8e7",
   "metadata": {
    "ExecuteTime": {
     "end_time": "2022-06-15T16:08:00.922038Z",
     "start_time": "2022-06-15T16:08:00.894966Z"
    }
   },
   "outputs": [
    {
     "data": {
      "text/html": [
       "<div>\n",
       "<style scoped>\n",
       "    .dataframe tbody tr th:only-of-type {\n",
       "        vertical-align: middle;\n",
       "    }\n",
       "\n",
       "    .dataframe tbody tr th {\n",
       "        vertical-align: top;\n",
       "    }\n",
       "\n",
       "    .dataframe thead th {\n",
       "        text-align: right;\n",
       "    }\n",
       "</style>\n",
       "<table border=\"1\" class=\"dataframe\">\n",
       "  <thead>\n",
       "    <tr style=\"text-align: right;\">\n",
       "      <th></th>\n",
       "      <th>count</th>\n",
       "      <th>mean</th>\n",
       "      <th>std</th>\n",
       "      <th>min</th>\n",
       "      <th>25%</th>\n",
       "      <th>50%</th>\n",
       "      <th>75%</th>\n",
       "      <th>max</th>\n",
       "    </tr>\n",
       "    <tr>\n",
       "      <th>target</th>\n",
       "      <th></th>\n",
       "      <th></th>\n",
       "      <th></th>\n",
       "      <th></th>\n",
       "      <th></th>\n",
       "      <th></th>\n",
       "      <th></th>\n",
       "      <th></th>\n",
       "    </tr>\n",
       "  </thead>\n",
       "  <tbody>\n",
       "    <tr>\n",
       "      <th>0</th>\n",
       "      <td>4819.0</td>\n",
       "      <td>403.134818</td>\n",
       "      <td>192.785002</td>\n",
       "      <td>22.599620</td>\n",
       "      <td>256.027083</td>\n",
       "      <td>374.260253</td>\n",
       "      <td>524.701175</td>\n",
       "      <td>1392.201954</td>\n",
       "    </tr>\n",
       "    <tr>\n",
       "      <th>1</th>\n",
       "      <td>4732.0</td>\n",
       "      <td>535.873496</td>\n",
       "      <td>238.865722</td>\n",
       "      <td>26.250978</td>\n",
       "      <td>358.681735</td>\n",
       "      <td>508.492529</td>\n",
       "      <td>690.353443</td>\n",
       "      <td>1426.258418</td>\n",
       "    </tr>\n",
       "  </tbody>\n",
       "</table>\n",
       "</div>"
      ],
      "text/plain": [
       "         count        mean         std        min         25%         50%  \\\n",
       "target                                                                      \n",
       "0       4819.0  403.134818  192.785002  22.599620  256.027083  374.260253   \n",
       "1       4732.0  535.873496  238.865722  26.250978  358.681735  508.492529   \n",
       "\n",
       "               75%          max  \n",
       "target                           \n",
       "0       524.701175  1392.201954  \n",
       "1       690.353443  1426.258418  "
      ]
     },
     "execution_count": 35,
     "metadata": {},
     "output_type": "execute_result"
    }
   ],
   "source": [
    "df_lemma.groupby('target').post_age_min.describe()"
   ]
  },
  {
   "cell_type": "code",
   "execution_count": 36,
   "id": "9d2bc2b0",
   "metadata": {
    "ExecuteTime": {
     "end_time": "2022-06-15T16:08:01.417965Z",
     "start_time": "2022-06-15T16:08:00.924968Z"
    }
   },
   "outputs": [
    {
     "data": {
      "image/png": "[encoded data removed]",
      "text/plain": [
       "<Figure size 720x360 with 1 Axes>"
      ]
     },
     "metadata": {
      "needs_background": "light"
     },
     "output_type": "display_data"
    }
   ],
   "source": [
    "box = pd.DataFrame([df_lemma[df_lemma.target==0].post_age_min,\n",
    "                    df_lemma[df_lemma.target==1].post_age_min],\n",
    "                   index = ['not hot', 'hot']) \n",
    "box = box.T.boxplot(vert=False,)\n",
    "box.set_title(\"Age of Post (Min.) Distr.\")\n",
    "box.set_xlabel(\"Minutes\")\n",
    "fig = plt.gcf()\n",
    "fig.set_size_inches(10,5);"
   ]
  },
  {
   "cell_type": "markdown",
   "id": "94ec3136",
   "metadata": {},
   "source": [
    "**Interpretation** Unlike the other variables, `post_age_min` isn't a controllable variable in that you cannot artificially increase a post's age. However, as Hot posts trend higher in `post_age_min`, it is recommended that 8 hours pass before determining if a post is *not* successful."
   ]
  },
  {
   "cell_type": "markdown",
   "id": "ad6b1637",
   "metadata": {},
   "source": [
    "#### Examine `title_length`"
   ]
  },
  {
   "cell_type": "code",
   "execution_count": 37,
   "id": "2a2d64a2",
   "metadata": {
    "ExecuteTime": {
     "end_time": "2022-06-15T16:08:01.449968Z",
     "start_time": "2022-06-15T16:08:01.420965Z"
    }
   },
   "outputs": [
    {
     "data": {
      "text/html": [
       "<div>\n",
       "<style scoped>\n",
       "    .dataframe tbody tr th:only-of-type {\n",
       "        vertical-align: middle;\n",
       "    }\n",
       "\n",
       "    .dataframe tbody tr th {\n",
       "        vertical-align: top;\n",
       "    }\n",
       "\n",
       "    .dataframe thead th {\n",
       "        text-align: right;\n",
       "    }\n",
       "</style>\n",
       "<table border=\"1\" class=\"dataframe\">\n",
       "  <thead>\n",
       "    <tr style=\"text-align: right;\">\n",
       "      <th></th>\n",
       "      <th>count</th>\n",
       "      <th>mean</th>\n",
       "      <th>std</th>\n",
       "      <th>min</th>\n",
       "      <th>25%</th>\n",
       "      <th>50%</th>\n",
       "      <th>75%</th>\n",
       "      <th>max</th>\n",
       "    </tr>\n",
       "    <tr>\n",
       "      <th>target</th>\n",
       "      <th></th>\n",
       "      <th></th>\n",
       "      <th></th>\n",
       "      <th></th>\n",
       "      <th></th>\n",
       "      <th></th>\n",
       "      <th></th>\n",
       "      <th></th>\n",
       "    </tr>\n",
       "  </thead>\n",
       "  <tbody>\n",
       "    <tr>\n",
       "      <th>0</th>\n",
       "      <td>4819.0</td>\n",
       "      <td>41.960365</td>\n",
       "      <td>38.651763</td>\n",
       "      <td>1.0</td>\n",
       "      <td>18.5</td>\n",
       "      <td>31.0</td>\n",
       "      <td>53.0</td>\n",
       "      <td>300.0</td>\n",
       "    </tr>\n",
       "    <tr>\n",
       "      <th>1</th>\n",
       "      <td>4732.0</td>\n",
       "      <td>58.081150</td>\n",
       "      <td>50.405854</td>\n",
       "      <td>1.0</td>\n",
       "      <td>25.0</td>\n",
       "      <td>43.0</td>\n",
       "      <td>74.0</td>\n",
       "      <td>300.0</td>\n",
       "    </tr>\n",
       "  </tbody>\n",
       "</table>\n",
       "</div>"
      ],
      "text/plain": [
       "         count       mean        std  min   25%   50%   75%    max\n",
       "target                                                            \n",
       "0       4819.0  41.960365  38.651763  1.0  18.5  31.0  53.0  300.0\n",
       "1       4732.0  58.081150  50.405854  1.0  25.0  43.0  74.0  300.0"
      ]
     },
     "execution_count": 37,
     "metadata": {},
     "output_type": "execute_result"
    }
   ],
   "source": [
    "df_lemma.groupby('target').title_length.describe()"
   ]
  },
  {
   "cell_type": "code",
   "execution_count": 38,
   "id": "91f340b9",
   "metadata": {
    "ExecuteTime": {
     "end_time": "2022-06-15T16:08:01.949965Z",
     "start_time": "2022-06-15T16:08:01.453966Z"
    }
   },
   "outputs": [
    {
     "data": {
      "image/png": "[encoded data removed]",
      "text/plain": [
       "<Figure size 720x360 with 1 Axes>"
      ]
     },
     "metadata": {
      "needs_background": "light"
     },
     "output_type": "display_data"
    }
   ],
   "source": [
    "box = pd.DataFrame([df_lemma[df_lemma.target==0].title_length,\n",
    "                    df_lemma[df_lemma.target==1].title_length],\n",
    "                   index = ['not hot', 'hot']) \n",
    "box = box.T.boxplot(vert=False,)\n",
    "box.set_title(\"Title Length Distr.\")\n",
    "box.set_xlabel(\"# of Characters\")\n",
    "fig = plt.gcf()\n",
    "fig.set_size_inches(10,5);\n"
   ]
  },
  {
   "cell_type": "markdown",
   "id": "9048cd2b",
   "metadata": {},
   "source": [
    "**Interpretation** Hot posts have `title_lengths` trending upwards. This indicates that posts should be somewhat long and not rely on single words or emojis for titles."
   ]
  },
  {
   "cell_type": "markdown",
   "id": "8455d5e7",
   "metadata": {},
   "source": [
    "#### Examine `VERB_percent`"
   ]
  },
  {
   "cell_type": "code",
   "execution_count": 39,
   "id": "c38aaf85",
   "metadata": {
    "ExecuteTime": {
     "end_time": "2022-06-15T16:08:01.995965Z",
     "start_time": "2022-06-15T16:08:01.952966Z"
    },
    "scrolled": true
   },
   "outputs": [
    {
     "data": {
      "text/html": [
       "<div>\n",
       "<style scoped>\n",
       "    .dataframe tbody tr th:only-of-type {\n",
       "        vertical-align: middle;\n",
       "    }\n",
       "\n",
       "    .dataframe tbody tr th {\n",
       "        vertical-align: top;\n",
       "    }\n",
       "\n",
       "    .dataframe thead th {\n",
       "        text-align: right;\n",
       "    }\n",
       "</style>\n",
       "<table border=\"1\" class=\"dataframe\">\n",
       "  <thead>\n",
       "    <tr style=\"text-align: right;\">\n",
       "      <th></th>\n",
       "      <th>count</th>\n",
       "      <th>mean</th>\n",
       "      <th>std</th>\n",
       "      <th>min</th>\n",
       "      <th>25%</th>\n",
       "      <th>50%</th>\n",
       "      <th>75%</th>\n",
       "      <th>max</th>\n",
       "    </tr>\n",
       "    <tr>\n",
       "      <th>target</th>\n",
       "      <th></th>\n",
       "      <th></th>\n",
       "      <th></th>\n",
       "      <th></th>\n",
       "      <th></th>\n",
       "      <th></th>\n",
       "      <th></th>\n",
       "      <th></th>\n",
       "    </tr>\n",
       "  </thead>\n",
       "  <tbody>\n",
       "    <tr>\n",
       "      <th>0</th>\n",
       "      <td>4819.0</td>\n",
       "      <td>0.109071</td>\n",
       "      <td>0.136179</td>\n",
       "      <td>0.0</td>\n",
       "      <td>0.0</td>\n",
       "      <td>0.085714</td>\n",
       "      <td>0.166667</td>\n",
       "      <td>1.0</td>\n",
       "    </tr>\n",
       "    <tr>\n",
       "      <th>1</th>\n",
       "      <td>4732.0</td>\n",
       "      <td>0.120342</td>\n",
       "      <td>0.127516</td>\n",
       "      <td>0.0</td>\n",
       "      <td>0.0</td>\n",
       "      <td>0.111111</td>\n",
       "      <td>0.170517</td>\n",
       "      <td>1.0</td>\n",
       "    </tr>\n",
       "  </tbody>\n",
       "</table>\n",
       "</div>"
      ],
      "text/plain": [
       "         count      mean       std  min  25%       50%       75%  max\n",
       "target                                                               \n",
       "0       4819.0  0.109071  0.136179  0.0  0.0  0.085714  0.166667  1.0\n",
       "1       4732.0  0.120342  0.127516  0.0  0.0  0.111111  0.170517  1.0"
      ]
     },
     "execution_count": 39,
     "metadata": {},
     "output_type": "execute_result"
    }
   ],
   "source": [
    "df_lemma.groupby('target').VERB_percent.describe()"
   ]
  },
  {
   "cell_type": "code",
   "execution_count": 40,
   "id": "545abfb5",
   "metadata": {
    "ExecuteTime": {
     "end_time": "2022-06-15T16:08:02.543966Z",
     "start_time": "2022-06-15T16:08:01.998966Z"
    }
   },
   "outputs": [
    {
     "data": {
      "image/png": "[encoded data removed]",
      "text/plain": [
       "<Figure size 720x360 with 1 Axes>"
      ]
     },
     "metadata": {
      "needs_background": "light"
     },
     "output_type": "display_data"
    }
   ],
   "source": [
    "box = pd.DataFrame([df_lemma[df_lemma.target==0].VERB_percent,\n",
    "                    df_lemma[df_lemma.target==1].VERB_percent],\n",
    "                   index = ['not hot', 'hot']) \n",
    "box = box.T.boxplot(vert=False,)\n",
    "box.set_title(\"Title Verb Percentage Distr.\")\n",
    "box.set_xlabel(\"Percentage\")\n",
    "fig = plt.gcf()\n",
    "fig.set_size_inches(10,5);\n"
   ]
  },
  {
   "cell_type": "markdown",
   "id": "8c9d5603",
   "metadata": {},
   "source": [
    "**Interpretation** A key takeaway here is that there is upward pressure for Hot posts on the percent of Verbs in the title. Even though the upper quartile values are about even, the density of the Hot posts is still higher overall for percent of Verbs.\n",
    "\n",
    "This indicates that maintaining a solid presence of verbs in the 10-12% range will help yield a better-performing post."
   ]
  },
  {
   "cell_type": "markdown",
   "id": "80203ff4",
   "metadata": {},
   "source": [
    "#### Examine `is_reddit_media_domain`"
   ]
  },
  {
   "cell_type": "code",
   "execution_count": 41,
   "id": "a634ce6c",
   "metadata": {
    "ExecuteTime": {
     "end_time": "2022-06-15T16:08:02.589040Z",
     "start_time": "2022-06-15T16:08:02.547966Z"
    }
   },
   "outputs": [
    {
     "data": {
      "text/html": [
       "<div>\n",
       "<style scoped>\n",
       "    .dataframe tbody tr th:only-of-type {\n",
       "        vertical-align: middle;\n",
       "    }\n",
       "\n",
       "    .dataframe tbody tr th {\n",
       "        vertical-align: top;\n",
       "    }\n",
       "\n",
       "    .dataframe thead th {\n",
       "        text-align: right;\n",
       "    }\n",
       "</style>\n",
       "<table border=\"1\" class=\"dataframe\">\n",
       "  <thead>\n",
       "    <tr style=\"text-align: right;\">\n",
       "      <th></th>\n",
       "      <th>count</th>\n",
       "      <th>mean</th>\n",
       "      <th>std</th>\n",
       "      <th>min</th>\n",
       "      <th>25%</th>\n",
       "      <th>50%</th>\n",
       "      <th>75%</th>\n",
       "      <th>max</th>\n",
       "    </tr>\n",
       "    <tr>\n",
       "      <th>target</th>\n",
       "      <th></th>\n",
       "      <th></th>\n",
       "      <th></th>\n",
       "      <th></th>\n",
       "      <th></th>\n",
       "      <th></th>\n",
       "      <th></th>\n",
       "      <th></th>\n",
       "    </tr>\n",
       "  </thead>\n",
       "  <tbody>\n",
       "    <tr>\n",
       "      <th>0</th>\n",
       "      <td>4819.0</td>\n",
       "      <td>0.841046</td>\n",
       "      <td>0.365671</td>\n",
       "      <td>0.0</td>\n",
       "      <td>1.0</td>\n",
       "      <td>1.0</td>\n",
       "      <td>1.0</td>\n",
       "      <td>1.0</td>\n",
       "    </tr>\n",
       "    <tr>\n",
       "      <th>1</th>\n",
       "      <td>4732.0</td>\n",
       "      <td>0.708580</td>\n",
       "      <td>0.454465</td>\n",
       "      <td>0.0</td>\n",
       "      <td>0.0</td>\n",
       "      <td>1.0</td>\n",
       "      <td>1.0</td>\n",
       "      <td>1.0</td>\n",
       "    </tr>\n",
       "  </tbody>\n",
       "</table>\n",
       "</div>"
      ],
      "text/plain": [
       "         count      mean       std  min  25%  50%  75%  max\n",
       "target                                                     \n",
       "0       4819.0  0.841046  0.365671  0.0  1.0  1.0  1.0  1.0\n",
       "1       4732.0  0.708580  0.454465  0.0  0.0  1.0  1.0  1.0"
      ]
     },
     "execution_count": 41,
     "metadata": {},
     "output_type": "execute_result"
    }
   ],
   "source": [
    "df_lemma.groupby('target').is_reddit_media_domain.describe()"
   ]
  },
  {
   "cell_type": "markdown",
   "id": "ba795dc0",
   "metadata": {},
   "source": [
    "**Interpretation** Not Hot posts were on a reddit media domain more often than Hot posts. Both subsets have a median `is_reddit_media_domain` value of TRUE but the Not Hot posts are even more heavily weighted in that direction with the lower quartile point being a value of TRUE as well.\n",
    "\n",
    "This indicates that there is opportunity on the side of *not* using a reddit media domain when it isn't convenient or necessary such as hosting videos on a different site or direct linking to the source site. A well-known complaint about reddit media domains are the video hosting."
   ]
  },
  {
   "cell_type": "markdown",
   "id": "6e5968ec",
   "metadata": {},
   "source": [
    "## Confusion Matrices"
   ]
  },
  {
   "cell_type": "code",
   "execution_count": 42,
   "id": "fac3ba5e",
   "metadata": {
    "ExecuteTime": {
     "end_time": "2022-06-15T16:08:03.043966Z",
     "start_time": "2022-06-15T16:08:02.591965Z"
    }
   },
   "outputs": [],
   "source": [
    "predicted = rf.predict(X_lemma_adj_test)"
   ]
  },
  {
   "cell_type": "code",
   "execution_count": 43,
   "id": "3a71b7f1",
   "metadata": {
    "ExecuteTime": {
     "end_time": "2022-06-15T16:08:03.328966Z",
     "start_time": "2022-06-15T16:08:03.045966Z"
    },
    "scrolled": false
   },
   "outputs": [
    {
     "data": {
      "image/png": "[encoded data removed]",
      "text/plain": [
       "<Figure size 504x504 with 1 Axes>"
      ]
     },
     "metadata": {
      "needs_background": "light"
     },
     "output_type": "display_data"
    }
   ],
   "source": [
    "# https://www.tutorialspoint.com/how-to-hide-the-colorbar-of-a-seaborn-heatmap\n",
    "# https://stackoverflow.com/questions/33104322/auto-adjust-font-size-in-seaborn-heatmap\n",
    "\n",
    "cf_matrix = confusion_matrix(y_lemma_test, predicted)\n",
    "\n",
    "group_names = ['True Neg','False Pos','False Neg','True Pos']\n",
    "\n",
    "group_counts = ['{0:0.0f}'.format(value) for value in\n",
    "                cf_matrix.flatten()]\n",
    "\n",
    "group_percentages = ['{0:.2%}'.format(value) for value in\n",
    "                     cf_matrix.flatten()/np.sum(cf_matrix)]\n",
    "\n",
    "labels = [f'{v1}\\n{v2}\\n{v3}' for v1, v2, v3 in\n",
    "          zip(group_names,group_counts,group_percentages)]\n",
    "\n",
    "labels = np.asarray(labels).reshape(2,2)\n",
    "\n",
    "\n",
    "\n",
    "\n",
    "chart = sns.heatmap(cf_matrix,\n",
    "                    annot=labels,\n",
    "                    annot_kws={\"size\": 20 / np.sqrt(len(cf_matrix))},\n",
    "                    fmt='', cmap='Blues', cbar=False,\n",
    "            xticklabels=['pred. not hot','pred. hot'],\n",
    "            yticklabels=['true not hot', 'true hot'])\n",
    "chart.set_xticklabels(chart.get_xticklabels(), rotation=0,\n",
    "                      fontsize = 20 / np.sqrt(len(cf_matrix)))\n",
    "chart.set_yticklabels(chart.get_yticklabels(), rotation=0,\n",
    "                      fontsize = 20 / np.sqrt(len(cf_matrix)))\n",
    "\n",
    "chart.set_title(\"Model Confusion Matrix\", fontsize=16)\n",
    "\n",
    "fig = plt.gcf()\n",
    "fig.set_size_inches(7,7)\n",
    "\n",
    "plt.tight_layout()\n",
    "plt.savefig('../images/confusion_matrix.png', transparent=True);"
   ]
  },
  {
   "cell_type": "code",
   "execution_count": 44,
   "id": "28dc9b51",
   "metadata": {
    "ExecuteTime": {
     "end_time": "2022-06-15T16:08:03.376285Z",
     "start_time": "2022-06-15T16:08:03.331968Z"
    }
   },
   "outputs": [
    {
     "name": "stdout",
     "output_type": "stream",
     "text": [
      "              precision    recall  f1-score   support\n",
      "\n",
      "           0     0.7130    0.7110    0.7120      3868\n",
      "           1     0.7045    0.7065    0.7055      3772\n",
      "\n",
      "    accuracy                         0.7088      7640\n",
      "   macro avg     0.7087    0.7087    0.7087      7640\n",
      "weighted avg     0.7088    0.7088    0.7088      7640\n",
      "\n"
     ]
    }
   ],
   "source": [
    "print(classification_report(y_lemma_test, predicted, digits = 4))"
   ]
  },
  {
   "cell_type": "code",
   "execution_count": 45,
   "id": "ec2c5732",
   "metadata": {
    "ExecuteTime": {
     "end_time": "2022-06-15T16:08:03.392296Z",
     "start_time": "2022-06-15T16:08:03.379296Z"
    },
    "code_folding": [
     0
    ]
   },
   "outputs": [
    {
     "data": {
      "text/html": [
       "<style>\n",
       "table {float:left}\n",
       "</style>\n"
      ],
      "text/plain": [
       "<IPython.core.display.HTML object>"
      ]
     },
     "metadata": {},
     "output_type": "display_data"
    }
   ],
   "source": [
    "%%html\n",
    "<style>\n",
    "table {float:left}\n",
    "</style>"
   ]
  },
  {
   "cell_type": "markdown",
   "id": "0b4786ef",
   "metadata": {},
   "source": [
    "**The model performance on seen data:**\n",
    "\n",
    "|Metric|Score|\n",
    "|---|---|\n",
    "|Accuracy|71.03%|\n",
    "|Precision|70.45%|\n",
    "|Recall|70.65%|\n",
    "|Specificity|71.10%|\n",
    "|F1|70.55%|"
   ]
  },
  {
   "cell_type": "markdown",
   "id": "75ecb982",
   "metadata": {},
   "source": [
    "**Interpretation** The accuracy of the model is 71.03%. When it comes to putting resources behind a Reddit post with the intent to get traction, this being the most minimized block of the matrix is good indication for the model's usefulness. Especially against the baseline of 50%."
   ]
  },
  {
   "cell_type": "markdown",
   "id": "7dc38f26",
   "metadata": {},
   "source": [
    "## Conclusion"
   ]
  },
  {
   "cell_type": "markdown",
   "id": "ada9edd1",
   "metadata": {},
   "source": [
    "At the high level, a few easy recommendations for getting an engaging Reddit post:\n",
    "  1.  **Be Patient:**  Reddit takes the age of the post into account for Hot! Give the post around 8 hours to really rev up before making a final call on its success.\n",
    "  2.  **Aim for large subreddits:**  More eyeballs means more possible commenters. Look 2.5M subscribers or more and pay attention to the submission guidelines and the meta of the subreddit.\n",
    "  3.  **Action words:**  The percent of verbs in a title matters. Maintain a 10-12% ratio to keep things in a successful prose\n",
    "  4.  **Avoid Short Titles:**  Single words or plain emojis are not proven winners\n",
    "  5.  **Reddit Media Domains are not an absolute:**  They are convenient and useful, but not a one-size-fits-all. Select your domain with purpose."
   ]
  },
  {
   "cell_type": "markdown",
   "id": "f883c328",
   "metadata": {},
   "source": [
    "By applying the above recommendations, a post is in a better position overall to be more engaging (aka have a greater than median number of comments!)."
   ]
  },
  {
   "cell_type": "markdown",
   "id": "16232fff",
   "metadata": {},
   "source": [
    "Possible future steps to move the project forward are to focus the model on specific subreddits, especially if a specific redditor-population is deemed more valuable than the average redditor. Another possible focus could be on the type of post trying to be submitted. There will be different pushes and pulls for a post that is a text blob, an image, a gif, a video, an article, etc. The more refined ask with the type of post the person is trying to make, the better the model could be trained to provide insights."
   ]
  },
  {
   "cell_type": "markdown",
   "id": "0693eef9",
   "metadata": {},
   "source": [
    "Another use of the model created here would be for any adjacent projects fivethirtyeight may have with regard to Reddit and its engaging posts. With the 71% accuracy, the model can be useful for flagging future posts as hot or not."
   ]
  }
 ],
 "metadata": {
  "kernelspec": {
   "display_name": "Python 3 (ipykernel)",
   "language": "python",
   "name": "python3"
  },
  "language_info": {
   "codemirror_mode": {
    "name": "ipython",
    "version": 3
   },
   "file_extension": ".py",
   "mimetype": "text/x-python",
   "name": "python",
   "nbconvert_exporter": "python",
   "pygments_lexer": "ipython3",
   "version": "3.9.7"
  },
  "toc": {
   "base_numbering": 1,
   "nav_menu": {},
   "number_sections": true,
   "sideBar": true,
   "skip_h1_title": false,
   "title_cell": "Table of Contents",
   "title_sidebar": "Contents",
   "toc_cell": false,
   "toc_position": {},
   "toc_section_display": true,
   "toc_window_display": true
  }
 },
 "nbformat": 4,
 "nbformat_minor": 5
}
