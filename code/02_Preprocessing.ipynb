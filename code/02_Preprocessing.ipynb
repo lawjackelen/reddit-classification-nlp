{
 "cells": [
  {
   "cell_type": "code",
   "execution_count": 1,
   "id": "33eb4513",
   "metadata": {},
   "outputs": [],
   "source": [
    "import pandas as pd\n",
    "import numpy as np"
   ]
  },
  {
   "cell_type": "markdown",
   "id": "c8cc2d13",
   "metadata": {},
   "source": [
    "### Import Data"
   ]
  },
  {
   "cell_type": "code",
   "execution_count": 2,
   "id": "013c9f20",
   "metadata": {},
   "outputs": [],
   "source": [
    "scrape_1 = pd.read_csv('../data/hot_scrape_20220526_184845.csv').drop('Unnamed: 0', axis = 1)\n",
    "scrape_2 = pd.read_csv('../data/hot_scrape_20220527_153856.csv').drop('Unnamed: 0', axis = 1)\n",
    "scrape_3 = pd.read_csv('../data/hot_scrape_20220528_112955.csv').drop('Unnamed: 0', axis = 1)\n",
    "scrape_4 = pd.read_csv('../data/hot_scrape_20220529_173947.csv').drop('Unnamed: 0', axis = 1)\n",
    "scrape_5 = pd.read_csv('../data/hot_scrape_20220530_104237.csv').drop('Unnamed: 0', axis = 1)"
   ]
  },
  {
   "cell_type": "code",
   "execution_count": 3,
   "id": "3f0c2a86",
   "metadata": {},
   "outputs": [
    {
     "name": "stdout",
     "output_type": "stream",
     "text": [
      "(7385, 24)\n",
      "(7580, 24)\n",
      "(7216, 24)\n",
      "(7318, 24)\n",
      "(8216, 24)\n"
     ]
    }
   ],
   "source": [
    "print(scrape_1.shape)\n",
    "print(scrape_2.shape)\n",
    "print(scrape_3.shape)\n",
    "print(scrape_4.shape)\n",
    "print(scrape_5.shape)"
   ]
  },
  {
   "cell_type": "code",
   "execution_count": 4,
   "id": "895ee26c",
   "metadata": {},
   "outputs": [],
   "source": [
    "scrapes = scrape_1.iloc[:2000,:].append(scrape_2.iloc[:2000,:])\\\n",
    "                                .append(scrape_3.iloc[:2000,:])\\\n",
    "                                .append(scrape_4.iloc[:2000,:])\\\n",
    "                                .append(scrape_5.iloc[:2000,:]).reset_index(drop=True)"
   ]
  },
  {
   "cell_type": "code",
   "execution_count": 5,
   "id": "b264f613",
   "metadata": {},
   "outputs": [
    {
     "data": {
      "text/plain": [
       "(10000, 24)"
      ]
     },
     "execution_count": 5,
     "metadata": {},
     "output_type": "execute_result"
    }
   ],
   "source": [
    "scrapes.shape"
   ]
  },
  {
   "cell_type": "code",
   "execution_count": 6,
   "id": "d030ffa5",
   "metadata": {},
   "outputs": [
    {
     "data": {
      "text/html": [
       "<div>\n",
       "<style scoped>\n",
       "    .dataframe tbody tr th:only-of-type {\n",
       "        vertical-align: middle;\n",
       "    }\n",
       "\n",
       "    .dataframe tbody tr th {\n",
       "        vertical-align: top;\n",
       "    }\n",
       "\n",
       "    .dataframe thead th {\n",
       "        text-align: right;\n",
       "    }\n",
       "</style>\n",
       "<table border=\"1\" class=\"dataframe\">\n",
       "  <thead>\n",
       "    <tr style=\"text-align: right;\">\n",
       "      <th></th>\n",
       "      <th>title</th>\n",
       "      <th>subreddit</th>\n",
       "      <th>time_sampled</th>\n",
       "      <th>created_utc</th>\n",
       "      <th>num_comments</th>\n",
       "      <th>author</th>\n",
       "      <th>author_premium</th>\n",
       "      <th>domain</th>\n",
       "      <th>edited</th>\n",
       "      <th>gilded</th>\n",
       "      <th>...</th>\n",
       "      <th>locked</th>\n",
       "      <th>over_18</th>\n",
       "      <th>post_id</th>\n",
       "      <th>score</th>\n",
       "      <th>spoiler</th>\n",
       "      <th>subreddit_id</th>\n",
       "      <th>subreddit_subscribers</th>\n",
       "      <th>upvote_ratio</th>\n",
       "      <th>post_age</th>\n",
       "      <th>post_age_min</th>\n",
       "    </tr>\n",
       "  </thead>\n",
       "  <tbody>\n",
       "    <tr>\n",
       "      <th>0</th>\n",
       "      <td>I got new teeth today after having bad teeth m...</td>\n",
       "      <td>MadeMeSmile</td>\n",
       "      <td>1.653609e+09</td>\n",
       "      <td>1.653593e+09</td>\n",
       "      <td>2008</td>\n",
       "      <td>MrChris680</td>\n",
       "      <td>True</td>\n",
       "      <td>reddit.com</td>\n",
       "      <td>False</td>\n",
       "      <td>2</td>\n",
       "      <td>...</td>\n",
       "      <td>False</td>\n",
       "      <td>False</td>\n",
       "      <td>uyfchr</td>\n",
       "      <td>60494</td>\n",
       "      <td>False</td>\n",
       "      <td>t5_2uqcm</td>\n",
       "      <td>5491453</td>\n",
       "      <td>0.94</td>\n",
       "      <td>15546.906511</td>\n",
       "      <td>259.115109</td>\n",
       "    </tr>\n",
       "    <tr>\n",
       "      <th>1</th>\n",
       "      <td>My avocado today was 11/10.</td>\n",
       "      <td>oddlysatisfying</td>\n",
       "      <td>1.653609e+09</td>\n",
       "      <td>1.653591e+09</td>\n",
       "      <td>440</td>\n",
       "      <td>180secondideas</td>\n",
       "      <td>False</td>\n",
       "      <td>i.redd.it</td>\n",
       "      <td>False</td>\n",
       "      <td>0</td>\n",
       "      <td>...</td>\n",
       "      <td>False</td>\n",
       "      <td>False</td>\n",
       "      <td>uyek2k</td>\n",
       "      <td>26369</td>\n",
       "      <td>False</td>\n",
       "      <td>t5_2x93b</td>\n",
       "      <td>6922967</td>\n",
       "      <td>0.92</td>\n",
       "      <td>17679.907510</td>\n",
       "      <td>294.665125</td>\n",
       "    </tr>\n",
       "    <tr>\n",
       "      <th>2</th>\n",
       "      <td>Husband of teacher killed in Texas school shoo...</td>\n",
       "      <td>news</td>\n",
       "      <td>1.653609e+09</td>\n",
       "      <td>1.653589e+09</td>\n",
       "      <td>1855</td>\n",
       "      <td>twolf1</td>\n",
       "      <td>False</td>\n",
       "      <td>fox10phoenix.com</td>\n",
       "      <td>False</td>\n",
       "      <td>0</td>\n",
       "      <td>...</td>\n",
       "      <td>False</td>\n",
       "      <td>False</td>\n",
       "      <td>uydosg</td>\n",
       "      <td>27941</td>\n",
       "      <td>False</td>\n",
       "      <td>t5_2qh3l</td>\n",
       "      <td>24714016</td>\n",
       "      <td>0.96</td>\n",
       "      <td>20065.907510</td>\n",
       "      <td>334.431792</td>\n",
       "    </tr>\n",
       "  </tbody>\n",
       "</table>\n",
       "<p>3 rows × 24 columns</p>\n",
       "</div>"
      ],
      "text/plain": [
       "                                               title        subreddit  \\\n",
       "0  I got new teeth today after having bad teeth m...      MadeMeSmile   \n",
       "1                        My avocado today was 11/10.  oddlysatisfying   \n",
       "2  Husband of teacher killed in Texas school shoo...             news   \n",
       "\n",
       "   time_sampled   created_utc  num_comments          author author_premium  \\\n",
       "0  1.653609e+09  1.653593e+09          2008      MrChris680           True   \n",
       "1  1.653609e+09  1.653591e+09           440  180secondideas          False   \n",
       "2  1.653609e+09  1.653589e+09          1855          twolf1          False   \n",
       "\n",
       "             domain edited  gilded  ...  locked  over_18  post_id  score  \\\n",
       "0        reddit.com  False       2  ...   False    False   uyfchr  60494   \n",
       "1         i.redd.it  False       0  ...   False    False   uyek2k  26369   \n",
       "2  fox10phoenix.com  False       0  ...   False    False   uydosg  27941   \n",
       "\n",
       "   spoiler  subreddit_id subreddit_subscribers  upvote_ratio      post_age  \\\n",
       "0    False      t5_2uqcm               5491453          0.94  15546.906511   \n",
       "1    False      t5_2x93b               6922967          0.92  17679.907510   \n",
       "2    False      t5_2qh3l              24714016          0.96  20065.907510   \n",
       "\n",
       "  post_age_min  \n",
       "0   259.115109  \n",
       "1   294.665125  \n",
       "2   334.431792  \n",
       "\n",
       "[3 rows x 24 columns]"
      ]
     },
     "execution_count": 6,
     "metadata": {},
     "output_type": "execute_result"
    }
   ],
   "source": [
    "scrapes.head(3)"
   ]
  },
  {
   "cell_type": "markdown",
   "id": "5f67a254",
   "metadata": {},
   "source": [
    "### Remove duplicate titles"
   ]
  },
  {
   "cell_type": "code",
   "execution_count": 7,
   "id": "a1b00a74",
   "metadata": {},
   "outputs": [],
   "source": [
    "scrapes.drop_duplicates(subset = ['title'], inplace=True)\n",
    "scrapes.reset_index(drop=True);"
   ]
  },
  {
   "cell_type": "markdown",
   "id": "6e9aa701",
   "metadata": {},
   "source": [
    "### Handle Nulls"
   ]
  },
  {
   "cell_type": "code",
   "execution_count": 8,
   "id": "3521c722",
   "metadata": {},
   "outputs": [
    {
     "data": {
      "text/plain": [
       "[('author', 3), ('author_premium', 3)]"
      ]
     },
     "execution_count": 8,
     "metadata": {},
     "output_type": "execute_result"
    }
   ],
   "source": [
    "[(col, scrapes[col].isnull().sum()) for col in scrapes.columns if scrapes[col].isnull().sum()>0]"
   ]
  },
  {
   "cell_type": "code",
   "execution_count": 9,
   "id": "8172013a",
   "metadata": {},
   "outputs": [],
   "source": [
    "# drop these nulls\n",
    "scrapes = scrapes[(~scrapes.author.isnull()) & (~scrapes.author_premium.isnull())].reset_index(drop=True)"
   ]
  },
  {
   "cell_type": "markdown",
   "id": "c792d5b4",
   "metadata": {},
   "source": [
    "### Create Target Column"
   ]
  },
  {
   "cell_type": "code",
   "execution_count": 10,
   "id": "06b2f9be",
   "metadata": {
    "scrolled": true
   },
   "outputs": [],
   "source": [
    "target_val = scrapes.num_comments.median()\n",
    "target = scrapes.num_comments.map(lambda x: x>target_val).astype(int)\n",
    "target.rename('target')\n",
    "\n",
    "scrapes['target'] = target"
   ]
  },
  {
   "cell_type": "code",
   "execution_count": 11,
   "id": "7eed1911",
   "metadata": {},
   "outputs": [],
   "source": [
    "# drop num_comments\n",
    "scrapes.drop('num_comments', axis = 1, inplace = True)"
   ]
  },
  {
   "cell_type": "markdown",
   "id": "171db21a",
   "metadata": {},
   "source": [
    "### Review Correlations"
   ]
  },
  {
   "cell_type": "code",
   "execution_count": 12,
   "id": "5791bbc6",
   "metadata": {},
   "outputs": [
    {
     "data": {
      "text/html": [
       "<div>\n",
       "<style scoped>\n",
       "    .dataframe tbody tr th:only-of-type {\n",
       "        vertical-align: middle;\n",
       "    }\n",
       "\n",
       "    .dataframe tbody tr th {\n",
       "        vertical-align: top;\n",
       "    }\n",
       "\n",
       "    .dataframe thead th {\n",
       "        text-align: right;\n",
       "    }\n",
       "</style>\n",
       "<table border=\"1\" class=\"dataframe\">\n",
       "  <thead>\n",
       "    <tr style=\"text-align: right;\">\n",
       "      <th></th>\n",
       "      <th>time_sampled</th>\n",
       "      <th>created_utc</th>\n",
       "      <th>gilded</th>\n",
       "      <th>is_meta</th>\n",
       "      <th>is_original_content</th>\n",
       "      <th>is_reddit_media_domain</th>\n",
       "      <th>is_self</th>\n",
       "      <th>locked</th>\n",
       "      <th>over_18</th>\n",
       "      <th>score</th>\n",
       "      <th>spoiler</th>\n",
       "      <th>subreddit_subscribers</th>\n",
       "      <th>upvote_ratio</th>\n",
       "      <th>post_age</th>\n",
       "      <th>post_age_min</th>\n",
       "    </tr>\n",
       "  </thead>\n",
       "  <tbody>\n",
       "    <tr>\n",
       "      <th>target</th>\n",
       "      <td>-0.064856</td>\n",
       "      <td>-0.098165</td>\n",
       "      <td>0.125162</td>\n",
       "      <td>NaN</td>\n",
       "      <td>0.00493</td>\n",
       "      <td>-0.1588</td>\n",
       "      <td>0.156907</td>\n",
       "      <td>0.02136</td>\n",
       "      <td>0.03762</td>\n",
       "      <td>0.284643</td>\n",
       "      <td>0.030616</td>\n",
       "      <td>0.225188</td>\n",
       "      <td>-0.347287</td>\n",
       "      <td>0.292775</td>\n",
       "      <td>0.292775</td>\n",
       "    </tr>\n",
       "  </tbody>\n",
       "</table>\n",
       "</div>"
      ],
      "text/plain": [
       "        time_sampled  created_utc    gilded  is_meta  is_original_content  \\\n",
       "target     -0.064856    -0.098165  0.125162      NaN              0.00493   \n",
       "\n",
       "        is_reddit_media_domain   is_self   locked  over_18     score  \\\n",
       "target                 -0.1588  0.156907  0.02136  0.03762  0.284643   \n",
       "\n",
       "         spoiler  subreddit_subscribers  upvote_ratio  post_age  post_age_min  \n",
       "target  0.030616               0.225188     -0.347287  0.292775      0.292775  "
      ]
     },
     "execution_count": 12,
     "metadata": {},
     "output_type": "execute_result"
    }
   ],
   "source": [
    "scrapes.corr().iloc[-1:,:-1]"
   ]
  },
  {
   "cell_type": "code",
   "execution_count": 13,
   "id": "9364926e",
   "metadata": {},
   "outputs": [],
   "source": [
    "# drop correlations in (-0.10, 0.10)\n",
    "scrapes.drop(['created_utc','is_original_content', 'locked', 'over_18', 'spoiler'], axis = 1, inplace=True)"
   ]
  },
  {
   "cell_type": "code",
   "execution_count": 14,
   "id": "2eaa38c2",
   "metadata": {},
   "outputs": [],
   "source": [
    "# drop time_sampled\n",
    "scrapes.drop('time_sampled', axis = 1, inplace=True)"
   ]
  },
  {
   "cell_type": "code",
   "execution_count": 15,
   "id": "6aab1e61",
   "metadata": {},
   "outputs": [],
   "source": [
    "# drop variables that are a measurement of post success that are not in our control\n",
    "scrapes.drop(['score', 'upvote_ratio'], axis = 1, inplace = True)"
   ]
  },
  {
   "cell_type": "code",
   "execution_count": 16,
   "id": "6a31ff97",
   "metadata": {},
   "outputs": [],
   "source": [
    "# drop unique id's and other duplicative variables\n",
    "scrapes.drop(['post_id', 'subreddit_id', 'post_age'], axis = 1, inplace = True)"
   ]
  },
  {
   "cell_type": "markdown",
   "id": "cfaf0552",
   "metadata": {},
   "source": [
    "### Initial EDA"
   ]
  },
  {
   "cell_type": "code",
   "execution_count": 17,
   "id": "20eaf3b1",
   "metadata": {},
   "outputs": [
    {
     "data": {
      "text/plain": [
       "title                      object\n",
       "subreddit                  object\n",
       "author                     object\n",
       "author_premium             object\n",
       "domain                     object\n",
       "edited                     object\n",
       "gilded                      int64\n",
       "is_meta                      bool\n",
       "is_reddit_media_domain       bool\n",
       "is_self                      bool\n",
       "subreddit_subscribers       int64\n",
       "post_age_min              float64\n",
       "target                      int32\n",
       "dtype: object"
      ]
     },
     "execution_count": 17,
     "metadata": {},
     "output_type": "execute_result"
    }
   ],
   "source": [
    "scrapes.dtypes"
   ]
  },
  {
   "cell_type": "markdown",
   "id": "e6fd2182",
   "metadata": {},
   "source": [
    "#### Review `title`"
   ]
  },
  {
   "cell_type": "code",
   "execution_count": 18,
   "id": "694bd3b2",
   "metadata": {},
   "outputs": [
    {
     "data": {
      "text/plain": [
       "count    9553.000000\n",
       "mean       49.946718\n",
       "std        45.573350\n",
       "min         1.000000\n",
       "25%        21.000000\n",
       "50%        36.000000\n",
       "75%        63.000000\n",
       "max       300.000000\n",
       "Name: title, dtype: float64"
      ]
     },
     "execution_count": 18,
     "metadata": {},
     "output_type": "execute_result"
    }
   ],
   "source": [
    "# look at length of titles\n",
    "scrapes.title.map(lambda x: len(x)).describe()"
   ]
  },
  {
   "cell_type": "markdown",
   "id": "40a56167",
   "metadata": {},
   "source": [
    "**Observation** There are no empty titles in our dataset. Additional cleaning will be completed during NLP."
   ]
  },
  {
   "cell_type": "markdown",
   "id": "74658d40",
   "metadata": {},
   "source": [
    "#### Review `subreddit`"
   ]
  },
  {
   "cell_type": "code",
   "execution_count": 19,
   "id": "0d758a89",
   "metadata": {},
   "outputs": [
    {
     "data": {
      "text/plain": [
       "count    2486.000000\n",
       "mean        1.904264\n",
       "std         3.049769\n",
       "min         0.000000\n",
       "25%         0.000000\n",
       "50%         1.000000\n",
       "75%         3.000000\n",
       "max        24.000000\n",
       "Name: target, dtype: float64"
      ]
     },
     "execution_count": 19,
     "metadata": {},
     "output_type": "execute_result"
    }
   ],
   "source": [
    "scrapes.groupby('subreddit').sum().target.describe()"
   ]
  },
  {
   "cell_type": "code",
   "execution_count": 20,
   "id": "019652bc",
   "metadata": {},
   "outputs": [],
   "source": [
    "# create list of subreddits with target successes 3 stdevs above the meandomain\n",
    "three_sigma_subreddits = scrapes.groupby('subreddit').count()[scrapes.groupby('subreddit').sum().target > 11].index"
   ]
  },
  {
   "cell_type": "code",
   "execution_count": 21,
   "id": "40051462",
   "metadata": {},
   "outputs": [],
   "source": [
    "is_successful_subreddit = scrapes.subreddit.map(lambda x: x in three_sigma_subreddits).astype(int)\n",
    "is_successful_subreddit.rename('is_successful_subreddit')\n",
    "\n",
    "scrapes['is_successful_subreddit'] = is_successful_subreddit"
   ]
  },
  {
   "cell_type": "code",
   "execution_count": 22,
   "id": "dea6001c",
   "metadata": {},
   "outputs": [],
   "source": [
    "scrapes.drop('subreddit', axis = 1, inplace = True)"
   ]
  },
  {
   "cell_type": "markdown",
   "id": "d02d7179",
   "metadata": {},
   "source": [
    "#### Review `author`"
   ]
  },
  {
   "cell_type": "code",
   "execution_count": 23,
   "id": "488a05e8",
   "metadata": {},
   "outputs": [
    {
     "data": {
      "text/plain": [
       "8477"
      ]
     },
     "execution_count": 23,
     "metadata": {},
     "output_type": "execute_result"
    }
   ],
   "source": [
    "len(scrapes.author.unique())"
   ]
  },
  {
   "cell_type": "code",
   "execution_count": 24,
   "id": "2e8bd157",
   "metadata": {},
   "outputs": [],
   "source": [
    "# drop column ... that is almost 1 unique per row\n",
    "scrapes.drop('author', axis = 1, inplace = True)"
   ]
  },
  {
   "cell_type": "markdown",
   "id": "73d02dd3",
   "metadata": {},
   "source": [
    "#### Review `author_premium`"
   ]
  },
  {
   "cell_type": "code",
   "execution_count": 25,
   "id": "d1d1bbda",
   "metadata": {},
   "outputs": [
    {
     "data": {
      "text/plain": [
       "array([True, False], dtype=object)"
      ]
     },
     "execution_count": 25,
     "metadata": {},
     "output_type": "execute_result"
    }
   ],
   "source": [
    "scrapes.author_premium.unique()"
   ]
  },
  {
   "cell_type": "code",
   "execution_count": 26,
   "id": "7ad181a9",
   "metadata": {},
   "outputs": [
    {
     "data": {
      "text/plain": [
       "False    0.839422\n",
       "True     0.160578\n",
       "Name: author_premium, dtype: float64"
      ]
     },
     "execution_count": 26,
     "metadata": {},
     "output_type": "execute_result"
    }
   ],
   "source": [
    "scrapes.author_premium.value_counts(normalize=True)"
   ]
  },
  {
   "cell_type": "code",
   "execution_count": 27,
   "id": "3aaa2442",
   "metadata": {},
   "outputs": [
    {
     "data": {
      "text/plain": [
       "0.11281181972388561"
      ]
     },
     "execution_count": 27,
     "metadata": {},
     "output_type": "execute_result"
    }
   ],
   "source": [
    "# bool it and see the corr\n",
    "scrapes.drop('author_premium', axis=1).join(scrapes.author_premium.astype(int)).corr().loc['target','author_premium']"
   ]
  },
  {
   "cell_type": "code",
   "execution_count": 28,
   "id": "ea17c602",
   "metadata": {},
   "outputs": [],
   "source": [
    "# drop the column\n",
    "scrapes.drop('author_premium', axis = 1, inplace=True)"
   ]
  },
  {
   "cell_type": "markdown",
   "id": "3b4a706a",
   "metadata": {},
   "source": [
    "#### Review `domain`"
   ]
  },
  {
   "cell_type": "code",
   "execution_count": 29,
   "id": "0e44f1d5",
   "metadata": {},
   "outputs": [
    {
     "data": {
      "text/plain": [
       "489"
      ]
     },
     "execution_count": 29,
     "metadata": {},
     "output_type": "execute_result"
    }
   ],
   "source": [
    "len(scrapes.domain.unique())"
   ]
  },
  {
   "cell_type": "code",
   "execution_count": 30,
   "id": "a3222ae3",
   "metadata": {},
   "outputs": [
    {
     "data": {
      "text/plain": [
       "count     489.000000\n",
       "mean        9.680982\n",
       "std       119.291953\n",
       "min         0.000000\n",
       "25%         1.000000\n",
       "50%         1.000000\n",
       "75%         2.000000\n",
       "max      2461.000000\n",
       "Name: target, dtype: float64"
      ]
     },
     "execution_count": 30,
     "metadata": {},
     "output_type": "execute_result"
    }
   ],
   "source": [
    "scrapes.groupby('domain').sum().target.describe()"
   ]
  },
  {
   "cell_type": "code",
   "execution_count": 31,
   "id": "55239658",
   "metadata": {},
   "outputs": [],
   "source": [
    "# create list of domains with target successes 3 stdevs above the mean\n",
    "three_sigma_domains = scrapes.groupby('domain').count()[scrapes.groupby('domain').sum().target > 367].index"
   ]
  },
  {
   "cell_type": "code",
   "execution_count": 32,
   "id": "41ff960f",
   "metadata": {},
   "outputs": [],
   "source": [
    "is_successful_domain = scrapes.domain.map(lambda x: x in three_sigma_domains).astype(int)\n",
    "is_successful_domain.rename('is_successful_domain')\n",
    "\n",
    "scrapes['is_successful_domain'] = is_successful_domain"
   ]
  },
  {
   "cell_type": "code",
   "execution_count": 33,
   "id": "9879ca31",
   "metadata": {},
   "outputs": [],
   "source": [
    "scrapes.drop('domain', axis = 1, inplace = True)"
   ]
  },
  {
   "cell_type": "markdown",
   "id": "6e036706",
   "metadata": {},
   "source": [
    "#### Review `edited`"
   ]
  },
  {
   "cell_type": "code",
   "execution_count": 34,
   "id": "a19b8ae5",
   "metadata": {},
   "outputs": [
    {
     "data": {
      "text/plain": [
       "array(['False', '1653605084.0', '1653586491.0', '1653605587.0',\n",
       "       '1653598322.0', '1653585974.0', '1653581994.0', '1653598639.0',\n",
       "       '1653587977.0', '1653600605.0'], dtype=object)"
      ]
     },
     "execution_count": 34,
     "metadata": {},
     "output_type": "execute_result"
    }
   ],
   "source": [
    "scrapes.edited.unique()[:10]"
   ]
  },
  {
   "cell_type": "code",
   "execution_count": 35,
   "id": "05f7a439",
   "metadata": {},
   "outputs": [],
   "source": [
    "# convert to bool\n",
    "is_edited = scrapes.edited.map(lambda x: x != 'False').astype(int)\n",
    "\n",
    "scrapes['edited'] = is_edited\n",
    "scrapes.rename(columns = {'edited': 'is_edited'}, inplace=True)"
   ]
  },
  {
   "cell_type": "code",
   "execution_count": 36,
   "id": "41cf9679",
   "metadata": {},
   "outputs": [
    {
     "data": {
      "text/plain": [
       "0.09931148186932341"
      ]
     },
     "execution_count": 36,
     "metadata": {},
     "output_type": "execute_result"
    }
   ],
   "source": [
    "scrapes.corr().loc['target','is_edited']"
   ]
  },
  {
   "cell_type": "code",
   "execution_count": 37,
   "id": "e14af71d",
   "metadata": {},
   "outputs": [],
   "source": [
    "# drop\n",
    "scrapes.drop('is_edited', axis = 1, inplace = True)"
   ]
  },
  {
   "cell_type": "markdown",
   "id": "ff42aabb",
   "metadata": {},
   "source": [
    "#### Review `gilded`"
   ]
  },
  {
   "cell_type": "code",
   "execution_count": 38,
   "id": "5590a68c",
   "metadata": {},
   "outputs": [
    {
     "data": {
      "text/plain": [
       "0    0.967445\n",
       "1    0.027740\n",
       "2    0.003664\n",
       "4    0.000523\n",
       "3    0.000523\n",
       "5    0.000105\n",
       "Name: gilded, dtype: float64"
      ]
     },
     "execution_count": 38,
     "metadata": {},
     "output_type": "execute_result"
    }
   ],
   "source": [
    "scrapes.gilded.value_counts(normalize=True)"
   ]
  },
  {
   "cell_type": "code",
   "execution_count": 39,
   "id": "48e905c4",
   "metadata": {},
   "outputs": [],
   "source": [
    "# drop it\n",
    "scrapes.drop('gilded', axis = 1, inplace = True)"
   ]
  },
  {
   "cell_type": "markdown",
   "id": "0c73852d",
   "metadata": {},
   "source": [
    "#### Review `is_meta`"
   ]
  },
  {
   "cell_type": "code",
   "execution_count": 40,
   "id": "0eb8e333",
   "metadata": {},
   "outputs": [
    {
     "data": {
      "text/plain": [
       "array([False])"
      ]
     },
     "execution_count": 40,
     "metadata": {},
     "output_type": "execute_result"
    }
   ],
   "source": [
    "scrapes.is_meta.unique()"
   ]
  },
  {
   "cell_type": "code",
   "execution_count": 41,
   "id": "6ef79727",
   "metadata": {},
   "outputs": [],
   "source": [
    "# drop it\n",
    "scrapes.drop('is_meta', axis = 1, inplace = True)"
   ]
  },
  {
   "cell_type": "markdown",
   "id": "83b0439a",
   "metadata": {},
   "source": [
    "#### Review `is_reddit_media_domain`"
   ]
  },
  {
   "cell_type": "code",
   "execution_count": 42,
   "id": "60500ad6",
   "metadata": {},
   "outputs": [
    {
     "data": {
      "text/plain": [
       "True     0.775359\n",
       "False    0.224641\n",
       "Name: is_reddit_media_domain, dtype: float64"
      ]
     },
     "execution_count": 42,
     "metadata": {},
     "output_type": "execute_result"
    }
   ],
   "source": [
    "scrapes.is_reddit_media_domain.value_counts(normalize=True)"
   ]
  },
  {
   "cell_type": "code",
   "execution_count": 43,
   "id": "9fe99c21",
   "metadata": {},
   "outputs": [],
   "source": [
    "# convert to int\n",
    "scrapes.is_reddit_media_domain = scrapes.is_reddit_media_domain.astype(int)"
   ]
  },
  {
   "cell_type": "markdown",
   "id": "b7e35fa8",
   "metadata": {},
   "source": [
    "#### Review `is_self`"
   ]
  },
  {
   "cell_type": "code",
   "execution_count": 44,
   "id": "0f0e7765",
   "metadata": {},
   "outputs": [
    {
     "data": {
      "text/plain": [
       "False    0.950801\n",
       "True     0.049199\n",
       "Name: is_self, dtype: float64"
      ]
     },
     "execution_count": 44,
     "metadata": {},
     "output_type": "execute_result"
    }
   ],
   "source": [
    "scrapes.is_self.value_counts(normalize=True)"
   ]
  },
  {
   "cell_type": "code",
   "execution_count": 45,
   "id": "cc4510b3",
   "metadata": {},
   "outputs": [
    {
     "data": {
      "text/plain": [
       "0.15690703388659485"
      ]
     },
     "execution_count": 45,
     "metadata": {},
     "output_type": "execute_result"
    }
   ],
   "source": [
    "scrapes.corr().loc['target','is_self']"
   ]
  },
  {
   "cell_type": "code",
   "execution_count": 46,
   "id": "4ddc2c92",
   "metadata": {},
   "outputs": [],
   "source": [
    "# drop it\n",
    "scrapes.drop('is_self', axis = 1, inplace = True)"
   ]
  },
  {
   "cell_type": "markdown",
   "id": "27e44af1",
   "metadata": {},
   "source": [
    "#### Final dataframe pre-NPL"
   ]
  },
  {
   "cell_type": "code",
   "execution_count": 47,
   "id": "da9f9fbf",
   "metadata": {},
   "outputs": [],
   "source": [
    "# move target to first column of df\n",
    "temp_col = scrapes.loc[:,['target']]\n",
    "scrapes = scrapes.drop('target', axis = 1)\n",
    "scrapes = temp_col.join(scrapes)\n",
    "\n",
    "del temp_col"
   ]
  },
  {
   "cell_type": "code",
   "execution_count": 48,
   "id": "d7b80805",
   "metadata": {},
   "outputs": [
    {
     "data": {
      "text/plain": [
       "target                       int32\n",
       "title                       object\n",
       "is_reddit_media_domain       int32\n",
       "subreddit_subscribers        int64\n",
       "post_age_min               float64\n",
       "is_successful_subreddit      int32\n",
       "is_successful_domain         int32\n",
       "dtype: object"
      ]
     },
     "execution_count": 48,
     "metadata": {},
     "output_type": "execute_result"
    }
   ],
   "source": [
    "scrapes.dtypes"
   ]
  },
  {
   "cell_type": "code",
   "execution_count": 49,
   "id": "50d251d7",
   "metadata": {},
   "outputs": [],
   "source": [
    "scrapes.to_csv('../data/pre_nlp_data.csv', index = False)"
   ]
  }
 ],
 "metadata": {
  "kernelspec": {
   "display_name": "Python 3 (ipykernel)",
   "language": "python",
   "name": "python3"
  },
  "language_info": {
   "codemirror_mode": {
    "name": "ipython",
    "version": 3
   },
   "file_extension": ".py",
   "mimetype": "text/x-python",
   "name": "python",
   "nbconvert_exporter": "python",
   "pygments_lexer": "ipython3",
   "version": "3.9.7"
  }
 },
 "nbformat": 4,
 "nbformat_minor": 5
}
